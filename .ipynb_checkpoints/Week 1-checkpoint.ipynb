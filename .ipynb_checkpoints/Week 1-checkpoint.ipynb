{
 "cells": [
  {
   "cell_type": "markdown",
   "metadata": {},
   "source": [
    "### Intro to Artificial Intelligence\n",
    "\n",
    "[link](https://classroom.udacity.com/courses/cs271)\n",
    "\n",
    "#### Intelligent Agents\n",
    "\n",
    "An AI program is called an Intelligent Agent\n",
    "\n",
    "There is an IA and there is an environment. The agent gets to interact with the env\n",
    "\n",
    "It can perceive the state of the env thru sensors\n",
    "\n",
    "It can affect its state thru its actuators\n",
    "\n",
    "But there needs to be a function that maps sensors to actuators. This is the key\n",
    "\n",
    "**How does an agent make decisions "
   ]
  }
 ],
 "metadata": {
  "kernelspec": {
   "display_name": "Python 3",
   "language": "python",
   "name": "python3"
  },
  "language_info": {
   "codemirror_mode": {
    "name": "ipython",
    "version": 3
   },
   "file_extension": ".py",
   "mimetype": "text/x-python",
   "name": "python",
   "nbconvert_exporter": "python",
   "pygments_lexer": "ipython3",
   "version": "3.6.3"
  }
 },
 "nbformat": 4,
 "nbformat_minor": 2
}
