{
 "cells": [
  {
   "cell_type": "markdown",
   "metadata": {},
   "source": [
    "## Creating the state space\n",
    "\n",
    "Assume : Bottom left corner is the Origin (0, 0)\n",
    "\n",
    "Grid size: 4x4\n",
    "\n",
    "State is completely defined by 4 things:\n",
    "\n",
    "1. Position of agent\n",
    "2. Position of tile: A\n",
    "3. Position of tile: B\n",
    "4. Position of tile: C\n",
    "\n",
    "```\n",
    "state = [\n",
    "    agent_position, A_position, B_position, C_position\n",
    "]\n",
    "\n",
    "```"
   ]
  },
  {
   "cell_type": "code",
   "execution_count": 1,
   "metadata": {},
   "outputs": [],
   "source": [
    "import copy\n",
    "import ast\n",
    "\n",
    "from pprint import pprint\n",
    "\n",
    "N = 4\n",
    "\n",
    "origin = (0, 0)\n",
    "\n",
    "agent_position = [3, 0]\n",
    "\n",
    "A_position = [0, 0]\n",
    "B_position = [1, 0]\n",
    "C_position = [2, 0]\n",
    "\n",
    "possible_moves = [\"left\", \"right\", \"up\", \"down\"]\n",
    "\n",
    "initial_state = [\n",
    "    agent_position, A_position, B_position, C_position\n",
    "]\n",
    "\n",
    "initial_state\n",
    "\n",
    "goal_state = [\n",
    "    [1, 2], [1, 1], [1, 0]\n",
    "]"
   ]
  },
  {
   "cell_type": "markdown",
   "metadata": {},
   "source": [
    "### Moving agent vertically\n",
    "\n",
    "Logic used:\n",
    "\n",
    "1. unit defines whether to move up or down (1: up -1: down)\n",
    "2. check if move is allowed or not (presence of border)\n",
    "3. Check if the adjacent position is occupied\n",
    "4. If agent needs to move to a position occupied by a tile, position of agent and tile are swapped\n"
   ]
  },
  {
   "cell_type": "code",
   "execution_count": 2,
   "metadata": {},
   "outputs": [
    {
     "data": {
      "text/plain": [
       "[[2, 2], [0, 0], [2, 0], [3, 2]]"
      ]
     },
     "execution_count": 2,
     "metadata": {},
     "output_type": "execute_result"
    }
   ],
   "source": [
    "def move_agent_vertically(current_state, unit):\n",
    "    if unit not in [1, -1]:\n",
    "        print (\"Wrong unit...\")\n",
    "        return False\n",
    "    current_state_copy = copy.deepcopy(current_state)\n",
    "    agent_position = current_state_copy[0]\n",
    "    A_position = current_state_copy[1]\n",
    "    B_position = current_state_copy[2]\n",
    "    C_position = current_state_copy[3]\n",
    "    if (agent_position[1] == 3 and unit == 1) or (agent_position[1] == 0 and unit == -1):\n",
    "        # cannot move vertically; border\n",
    "        # print (\"cannot move vertically: border\")\n",
    "        return False\n",
    "    else:\n",
    "        # not at border\n",
    "        # check if tile next to agent\n",
    "        # if true, we simply need to swap posiition of agent and tile\n",
    "        if A_position[0] == agent_position[0] and (A_position[1] - agent_position[1]) == unit:\n",
    "            agent_position[1], A_position[1] = A_position[1], agent_position[1]\n",
    "            return current_state_copy\n",
    "        if B_position[0] == agent_position[0] and (B_position[1] - agent_position[1]) == unit:\n",
    "            agent_position[1], B_position[1] = B_position[1], agent_position[1]\n",
    "            return current_state_copy\n",
    "        if C_position[0] == agent_position[0] and (C_position[1] - agent_position[1]) == unit:\n",
    "            agent_position[1], C_position[1] = C_position[1], agent_position[1]\n",
    "            return current_state_copy\n",
    "        \n",
    "        # no tile above agent\n",
    "        agent_position[1] += unit\n",
    "        return current_state_copy\n",
    "    \n",
    "\n",
    "move_agent_vertically([[2, 3], [0, 0], [2, 0], [3, 2]], -1)"
   ]
  },
  {
   "cell_type": "markdown",
   "metadata": {},
   "source": [
    "### Moving Agent horizontally"
   ]
  },
  {
   "cell_type": "code",
   "execution_count": 3,
   "metadata": {},
   "outputs": [
    {
     "data": {
      "text/plain": [
       "[[3, 2], [1, 0], [2, 0], [2, 2]]"
      ]
     },
     "execution_count": 3,
     "metadata": {},
     "output_type": "execute_result"
    }
   ],
   "source": [
    "def move_agent_horizontally(current_state, unit):\n",
    "    if unit not in [1, -1]:\n",
    "        print (\"Wrong unit...\")\n",
    "        return False\n",
    "    current_state_copy = copy.deepcopy(current_state)\n",
    "    agent_position = current_state_copy[0]\n",
    "    A_position = current_state_copy[1]\n",
    "    B_position = current_state_copy[2]\n",
    "    C_position = current_state_copy[3]\n",
    "    if (agent_position[0] == 3 and unit == 1) or (agent_position[0] == 0 and unit == -1):\n",
    "        # cannot move horizontally; border\n",
    "        # print (\"cannot move horizontally: border\")\n",
    "        return False\n",
    "    else:\n",
    "        # not at border\n",
    "        # check if tile next to agent\n",
    "        # if true, we simply need to swap posiition of agent and tile\n",
    "        if A_position[1] == agent_position[1] and (A_position[0] - agent_position[0]) == unit:\n",
    "            agent_position[0], A_position[0] = A_position[0], agent_position[0]\n",
    "            return current_state_copy\n",
    "        if B_position[1] == agent_position[1] and (B_position[0] - agent_position[0]) == unit:\n",
    "            agent_position[0], B_position[0] = B_position[0], agent_position[0]\n",
    "            return current_state_copy\n",
    "        if C_position[1] == agent_position[1] and (C_position[0] - agent_position[0]) == unit:\n",
    "            agent_position[0], C_position[0] = C_position[0], agent_position[0]\n",
    "            return current_state_copy\n",
    "        \n",
    "        # no tile above agent\n",
    "        agent_position[0] += unit\n",
    "        return current_state_copy\n",
    "    \n",
    "\n",
    "move_agent_horizontally([[2, 2], [1, 0], [2, 0], [3, 2]], 1)"
   ]
  },
  {
   "cell_type": "markdown",
   "metadata": {},
   "source": [
    "### Return all possible moves and its corresponding states given a current state as input\n",
    "\n",
    "For any given state, and agent has the following moves\n",
    "\n",
    "1. Up (U)\n",
    "2. Down (D)\n",
    "3. Left (L)\n",
    "4. Right (R)\n",
    "\n",
    "But some moves may not be allowed. For eg if agent is to the right edge, it cannot move anymore to the right\n",
    "\n",
    "A dictionary is returnred where the key denotes the move and value denotes the subsequent state after the move\n",
    "Some moves may have a value `False` signifying that the move is not possible\n",
    "\n",
    "For eg, from state = `[[3, 2], [1, 0], [3, 1], [2, 2]]`, the subsequent states are:\n",
    "\n",
    "```\n",
    "{'D': [[3, 1], [1, 0], [3, 2], [2, 2]],\n",
    " 'L': [[2, 2], [1, 0], [3, 1], [3, 2]],\n",
    " 'R': False,\n",
    " 'U': [[3, 3], [1, 0], [3, 1], [2, 2]]}\n",
    " \n",
    "```\n"
   ]
  },
  {
   "cell_type": "code",
   "execution_count": 4,
   "metadata": {
    "scrolled": true
   },
   "outputs": [
    {
     "data": {
      "text/plain": [
       "{'D': [[3, 1], [1, 0], [3, 2], [2, 2]],\n",
       " 'L': [[2, 2], [1, 0], [3, 1], [3, 2]],\n",
       " 'R': False,\n",
       " 'U': [[3, 3], [1, 0], [3, 1], [2, 2]]}"
      ]
     },
     "execution_count": 4,
     "metadata": {},
     "output_type": "execute_result"
    }
   ],
   "source": [
    "def all_moves(current_state):\n",
    "    current_state_copy = copy.deepcopy(current_state)\n",
    "    neighbor_sates = []\n",
    "    neighbor_sates_dict = dict()\n",
    "    neighbor_sates.append([move_agent_vertically(current_state_copy, 1), \n",
    "                          move_agent_vertically(current_state_copy, -1), move_agent_horizontally(current_state, -1),\n",
    "                         move_agent_horizontally(current_state, 1)])\n",
    "    \n",
    "    neighbor_sates_dict['U'] = neighbor_sates[0][0]\n",
    "    neighbor_sates_dict['D'] = neighbor_sates[0][1]\n",
    "    neighbor_sates_dict['L'] = neighbor_sates[0][2]\n",
    "    neighbor_sates_dict['R'] = neighbor_sates[0][3]\n",
    "    return neighbor_sates_dict\n",
    "\n",
    "all_moves([[3, 2], [1, 0], [3, 1], [2, 2]])"
   ]
  },
  {
   "cell_type": "code",
   "execution_count": 5,
   "metadata": {},
   "outputs": [
    {
     "data": {
      "text/plain": [
       "True"
      ]
     },
     "execution_count": 5,
     "metadata": {},
     "output_type": "execute_result"
    }
   ],
   "source": [
    "def check_if_goal_state(state):\n",
    "    state_copy = copy.deepcopy(state)\n",
    "    # only positions of the tiles matter for goal, not the position of the agent\n",
    "    if state_copy[1] == goal_state[0] and state_copy[2] == goal_state[1] and state_copy[3] == goal_state[2]:\n",
    "        return True\n",
    "    return False\n",
    "\n",
    "check_if_goal_state([[3, 2], [1, 2], [1, 1], [1, 0]])"
   ]
  },
  {
   "cell_type": "code",
   "execution_count": 6,
   "metadata": {},
   "outputs": [
    {
     "name": "stdout",
     "output_type": "stream",
     "text": [
      "[[3, 0], [0, 0], [1, 0], [2, 0]]\n"
     ]
    },
    {
     "data": {
      "text/plain": [
       "{'D': False,\n",
       " 'L': [[2, 0], [0, 0], [1, 0], [3, 0]],\n",
       " 'R': False,\n",
       " 'U': [[3, 1], [0, 0], [1, 0], [2, 0]]}"
      ]
     },
     "execution_count": 6,
     "metadata": {},
     "output_type": "execute_result"
    }
   ],
   "source": [
    "pprint(initial_state)\n",
    "\n",
    "def generate_neighbor_states(current_state):\n",
    "    current_state_copy = copy.deepcopy(current_state)\n",
    "    all_moves_result = all_moves(current_state_copy)\n",
    "    # resulting_states = []\n",
    "    # for resulting_state in all_moves_result.values():\n",
    "    #    resulting_states.append(resulting_state)\n",
    "    # return resulting_states\n",
    "    return all_moves_result\n",
    "        \n",
    "generate_neighbor_states(initial_state)\n",
    "        "
   ]
  },
  {
   "cell_type": "code",
   "execution_count": 94,
   "metadata": {},
   "outputs": [],
   "source": [
    "def start_exploring(initial_state, goal_state):\n",
    "    initial_state_copy = copy.deepcopy(initial_state)\n",
    "    goal_state_copy = copy.deepcopy(goal_state)\n",
    "    \n",
    "    explored_states = []\n",
    "    frontier = [initial_state]\n",
    "    \n",
    "    while frontier:\n",
    "        \n",
    "        current_sate = frontier.pop(0) \n",
    "        print (\"Current state:\")\n",
    "        print (current_sate)\n",
    "        explored_states.append(current_sate)\n",
    "        print (\"Nodes expanded:\", len(explored_states))\n",
    "        if check_if_goal_state(current_sate):\n",
    "            return explored_states\n",
    "        neighbor_states = generate_neighbor_states(current_sate)\n",
    "        \n",
    "        for move, neighbor_state in neighbor_states.items():\n",
    "            if neighbor_state is not False:\n",
    "                frontier.append(neighbor_state)\n",
    "                print (\"Adding node to frontier\")\n",
    "                print (\"...........................\")\n",
    "                print (\"Move:\", move)\n",
    "                print (neighbor_state)\n",
    "    return explored_states\n",
    "        \n",
    "\n"
   ]
  },
  {
   "cell_type": "code",
   "execution_count": null,
   "metadata": {
    "scrolled": false
   },
   "outputs": [],
   "source": [
    "initial_state2 = [[1, 2], [2, 2], [1, 1], [1, 0]]\n",
    "start_exploring(initial_state2, goal_state)"
   ]
  },
  {
   "cell_type": "markdown",
   "metadata": {},
   "source": [
    "### Extras\n",
    "\n",
    "- change initial states and see count of explored nodes\n",
    "\n",
    "- move agent farther and farther away from init state and see how it affects the results\n",
    "\n",
    "- change Tree to Graph Search for each config"
   ]
  },
  {
   "cell_type": "code",
   "execution_count": null,
   "metadata": {},
   "outputs": [],
   "source": [
    "def start_exploring_dfs(initial_state, goal_state):\n",
    "    initial_state_copy = copy.deepcopy(initial_state)\n",
    "    goal_state_copy = copy.deepcopy(goal_state)\n",
    "    \n",
    "    explored_states = []\n",
    "    frontier = [initial_state]\n",
    "    \n",
    "    while frontier:\n",
    "        \n",
    "        current_sate = frontier.pop() \n",
    "        print (\"Current state:\")\n",
    "        print (current_sate)\n",
    "        # remove condition for TREE SEARCH\n",
    "        if current_sate in explored_states:\n",
    "            print (\"Skipping state:\", current_sate)\n",
    "            continue\n",
    "        explored_states.append(current_sate)\n",
    "        print (\"Nodes expanded:\", len(explored_states))\n",
    "        if check_if_goal_state(current_sate):\n",
    "            return explored_states\n",
    "        neighbor_states = generate_neighbor_states(current_sate)\n",
    "        \n",
    "        for move, neighbor_state in neighbor_states.items():\n",
    "            if neighbor_state is not False:\n",
    "                frontier.append(neighbor_state)\n",
    "                print (\"Adding node to frontier\")\n",
    "                print (\"...........................\")\n",
    "                print (\"Move:\", move)\n",
    "                print (neighbor_state)\n",
    "    return explored_states\n",
    "        \n",
    "\n"
   ]
  },
  {
   "cell_type": "code",
   "execution_count": null,
   "metadata": {},
   "outputs": [],
   "source": []
  },
  {
   "cell_type": "code",
   "execution_count": null,
   "metadata": {
    "scrolled": false
   },
   "outputs": [],
   "source": [
    "initial_state2 = [[1, 3], [2, 2], [1, 1], [1, 0]]\n",
    "start_exploring_dfs(initial_state2, goal_state)"
   ]
  },
  {
   "cell_type": "markdown",
   "metadata": {},
   "source": [
    "### Findings:\n",
    "\n",
    "- For initial state [[1, 3], [2, 2], [1, 1], [1, 0]], using DFS (Tree Search) The algo could not find a solution. 55k nodes were expanded. Still it did not find a soln\n",
    "\n",
    "- For same init state , DFS (using Graph Search) forund a soln at just 3.5k nodes"
   ]
  },
  {
   "cell_type": "markdown",
   "metadata": {},
   "source": [
    "### Generatying SubTree"
   ]
  },
  {
   "cell_type": "code",
   "execution_count": 34,
   "metadata": {},
   "outputs": [
    {
     "data": {
      "text/plain": [
       "[[3, 0], [0, 0], [1, 0], [2, 0]]"
      ]
     },
     "execution_count": 34,
     "metadata": {},
     "output_type": "execute_result"
    }
   ],
   "source": [
    "initial_state"
   ]
  },
  {
   "cell_type": "code",
   "execution_count": 10,
   "metadata": {
    "scrolled": false
   },
   "outputs": [
    {
     "name": "stdout",
     "output_type": "stream",
     "text": [
      "{'[[1, 0], [0, 0], [2, 0], [3, 0]]': ['[[2, 0], [0, 0], [1, 0], [3, 0]]'],\n",
      " '[[2, 0], [0, 0], [1, 0], [3, 0]]': ['[[2, 1], [0, 0], [1, 0], [3, 0]]',\n",
      "                                      '[[1, 0], [0, 0], [2, 0], [3, 0]]',\n",
      "                                      '[[3, 0], [0, 0], [1, 0], [2, 0]]'],\n",
      " '[[2, 1], [0, 0], [1, 0], [2, 0]]': ['[[3, 1], [0, 0], [1, 0], [2, 0]]'],\n",
      " '[[2, 1], [0, 0], [1, 0], [3, 0]]': ['[[2, 0], [0, 0], [1, 0], [3, 0]]'],\n",
      " '[[3, 0], [0, 0], [1, 0], [2, 0]]': ['[[3, 1], [0, 0], [1, 0], [2, 0]]',\n",
      "                                      '[[2, 0], [0, 0], [1, 0], [3, 0]]'],\n",
      " '[[3, 1], [0, 0], [1, 0], [2, 0]]': ['[[3, 2], [0, 0], [1, 0], [2, 0]]',\n",
      "                                      '[[3, 0], [0, 0], [1, 0], [2, 0]]',\n",
      "                                      '[[2, 1], [0, 0], [1, 0], [2, 0]]'],\n",
      " '[[3, 2], [0, 0], [1, 0], [2, 0]]': ['[[3, 1], [0, 0], [1, 0], [2, 0]]']}\n"
     ]
    }
   ],
   "source": [
    "def generate_sub_tree(start_param, depth):\n",
    "    \n",
    "    start_as_state = copy.deepcopy(start_param)\n",
    "    start = str(start_as_state)\n",
    "    # link_graph_copy = copy.deepcopy(link_graph)\n",
    "\n",
    "    level = 0\n",
    "\n",
    "    new_link_graph = dict()\n",
    "\n",
    "    explored_nodes = []\n",
    "    expanded_nodes = []\n",
    "\n",
    "    new_link_graph = dict()\n",
    "\n",
    "    if level == 0:\n",
    "        new_link_graph[start] = []\n",
    "        explored_nodes.append(start)\n",
    "        level += 1\n",
    "    if depth == 0:\n",
    "        return new_link_graph\n",
    "\n",
    "\n",
    "    if level == 1:\n",
    "        neighbor_states = generate_neighbor_states(start_as_state)\n",
    "        frontier = []\n",
    "        for move, neighbor_state in neighbor_states.items():\n",
    "            if neighbor_state is not False:\n",
    "                frontier.append(str(neighbor_state))\n",
    "        new_link_graph[start] = frontier\n",
    "        expanded_nodes.append(start)\n",
    "        \n",
    "        for neighbor in frontier:\n",
    "            explored_nodes.append(neighbor)\n",
    "\n",
    "\n",
    "    for x in range(level, depth):\n",
    "        nodes_to_be_expanded = []\n",
    "        for node in explored_nodes:\n",
    "            if node not in expanded_nodes:\n",
    "                nodes_to_be_expanded.append(node)\n",
    "        for node in nodes_to_be_expanded:\n",
    "            \n",
    "            neighbor_states = generate_neighbor_states(ast.literal_eval(str(node)))\n",
    "            frontier = []\n",
    "            for move, neighbor_state in neighbor_states.items():\n",
    "                if neighbor_state is not False:\n",
    "                    frontier.append(str(neighbor_state))\n",
    "            new_link_graph[node] = frontier\n",
    "            expanded_nodes.append(node)\n",
    "            for neighbor in frontier:\n",
    "                explored_nodes.append(neighbor)\n",
    "\n",
    "    \n",
    "\n",
    "    #return new_link_graph\n",
    "    \n",
    "    nodes_to_be_assigned = []\n",
    "\n",
    "    new_graph2 = copy.deepcopy(new_link_graph)\n",
    "    \n",
    "    for nodes in new_link_graph.values():\n",
    "        for node in nodes:\n",
    "            if node not in new_link_graph.keys():\n",
    "                new_graph2[node] = None\n",
    "                nodes_to_be_assigned.append(node)\n",
    "    \n",
    "    \n",
    "    for node in nodes_to_be_assigned:\n",
    "        node_values = []\n",
    "        for key, values in new_link_graph.items():\n",
    "            if node in values:\n",
    "                node_values.append(key)\n",
    "        new_graph2[node] = node_values\n",
    "        \n",
    "    \n",
    "    return new_graph2\n",
    "\n",
    "pprint(generate_sub_tree(initial_state, 2))"
   ]
  },
  {
   "cell_type": "code",
   "execution_count": 69,
   "metadata": {},
   "outputs": [],
   "source": [
    "def dfs_with_goal(graph, start, goal):\n",
    "    \n",
    "    \n",
    "    graph_copy = copy.deepcopy(graph)\n",
    "    start_copy = copy.deepcopy(start)\n",
    "    goal_copy = copy.deepcopy(goal)\n",
    "    \n",
    "    stack, path = [start], []\n",
    "    \n",
    "    while stack:\n",
    "        #print (stack)\n",
    "        vertex = stack.pop()\n",
    "        #print (\"Popping..\", vertex)\n",
    "        if vertex in path:\n",
    "            continue\n",
    "        \n",
    "        path.append(vertex)\n",
    "        if check_if_goal_state(ast.literal_eval(str(vertex))):\n",
    "            return (True, len(path)-1)\n",
    "        for neighbor in graph_copy[vertex]:\n",
    "            stack.append(neighbor)\n",
    "\n",
    "\n",
    "    return False\n"
   ]
  },
  {
   "cell_type": "markdown",
   "metadata": {},
   "source": [
    "### Testing our DLS\n",
    "\n",
    "- First we keep initial state (initial_state_1) very close to our goal state so that it can be reached withon 1 depth\n",
    "\n",
    "    - For this we check if our DLS is coming up with a soln\n",
    "    \n",
    "- We slowly move the initial_sate away (initial_state_2, initial_state_3) and increase the depth limit "
   ]
  },
  {
   "cell_type": "markdown",
   "metadata": {},
   "source": [
    "### Initial state: Level 1"
   ]
  },
  {
   "cell_type": "code",
   "execution_count": 46,
   "metadata": {
    "scrolled": true
   },
   "outputs": [
    {
     "data": {
      "text/plain": [
       "{'[[0, 2], [2, 2], [1, 1], [1, 0]]': ['[[1, 2], [2, 2], [1, 1], [1, 0]]'],\n",
       " '[[1, 1], [2, 2], [1, 2], [1, 0]]': ['[[1, 2], [2, 2], [1, 1], [1, 0]]'],\n",
       " '[[1, 2], [2, 2], [1, 1], [1, 0]]': ['[[1, 3], [2, 2], [1, 1], [1, 0]]',\n",
       "  '[[1, 1], [2, 2], [1, 2], [1, 0]]',\n",
       "  '[[0, 2], [2, 2], [1, 1], [1, 0]]',\n",
       "  '[[2, 2], [1, 2], [1, 1], [1, 0]]'],\n",
       " '[[1, 3], [2, 2], [1, 1], [1, 0]]': ['[[1, 2], [2, 2], [1, 1], [1, 0]]'],\n",
       " '[[2, 2], [1, 2], [1, 1], [1, 0]]': ['[[1, 2], [2, 2], [1, 1], [1, 0]]']}"
      ]
     },
     "execution_count": 46,
     "metadata": {},
     "output_type": "execute_result"
    }
   ],
   "source": [
    "initial_state_1 =  [[1, 2], [2, 2], [1, 1], [1, 0]]\n",
    "\n",
    "depth_subtree = generate_sub_tree(initial_state_1, 1)\n",
    "\n",
    "depth_subtree"
   ]
  },
  {
   "cell_type": "code",
   "execution_count": 45,
   "metadata": {
    "scrolled": false
   },
   "outputs": [
    {
     "name": "stdout",
     "output_type": "stream",
     "text": [
      "['[[1, 2], [2, 2], [1, 1], [1, 0]]']\n",
      "Popping.. [[1, 2], [2, 2], [1, 1], [1, 0]]\n",
      "['[[1, 3], [2, 2], [1, 1], [1, 0]]', '[[1, 1], [2, 2], [1, 2], [1, 0]]', '[[0, 2], [2, 2], [1, 1], [1, 0]]', '[[2, 2], [1, 2], [1, 1], [1, 0]]']\n",
      "Popping.. [[2, 2], [1, 2], [1, 1], [1, 0]]\n"
     ]
    },
    {
     "data": {
      "text/plain": [
       "(True, 1)"
      ]
     },
     "execution_count": 45,
     "metadata": {},
     "output_type": "execute_result"
    }
   ],
   "source": [
    "dfs_with_goal(depth_subtree, str(initial_state_1), goal_state)"
   ]
  },
  {
   "cell_type": "code",
   "execution_count": 52,
   "metadata": {},
   "outputs": [
    {
     "name": "stdout",
     "output_type": "stream",
     "text": [
      "['[[0, 2], [2, 2], [1, 1], [1, 0]]']\n",
      "Popping.. [[0, 2], [2, 2], [1, 1], [1, 0]]\n",
      "['[[0, 3], [2, 2], [1, 1], [1, 0]]', '[[0, 1], [2, 2], [1, 1], [1, 0]]', '[[1, 2], [2, 2], [1, 1], [1, 0]]']\n",
      "Popping.. [[1, 2], [2, 2], [1, 1], [1, 0]]\n",
      "['[[0, 3], [2, 2], [1, 1], [1, 0]]', '[[0, 1], [2, 2], [1, 1], [1, 0]]', '[[0, 2], [2, 2], [1, 1], [1, 0]]']\n",
      "Popping.. [[0, 2], [2, 2], [1, 1], [1, 0]]\n",
      "['[[0, 3], [2, 2], [1, 1], [1, 0]]', '[[0, 1], [2, 2], [1, 1], [1, 0]]']\n",
      "Popping.. [[0, 1], [2, 2], [1, 1], [1, 0]]\n",
      "['[[0, 3], [2, 2], [1, 1], [1, 0]]', '[[0, 2], [2, 2], [1, 1], [1, 0]]']\n",
      "Popping.. [[0, 2], [2, 2], [1, 1], [1, 0]]\n",
      "['[[0, 3], [2, 2], [1, 1], [1, 0]]']\n",
      "Popping.. [[0, 3], [2, 2], [1, 1], [1, 0]]\n",
      "['[[0, 2], [2, 2], [1, 1], [1, 0]]']\n",
      "Popping.. [[0, 2], [2, 2], [1, 1], [1, 0]]\n",
      "False\n",
      "['[[0, 2], [2, 2], [1, 1], [1, 0]]']\n",
      "Popping.. [[0, 2], [2, 2], [1, 1], [1, 0]]\n",
      "['[[0, 3], [2, 2], [1, 1], [1, 0]]', '[[0, 1], [2, 2], [1, 1], [1, 0]]', '[[1, 2], [2, 2], [1, 1], [1, 0]]']\n",
      "Popping.. [[1, 2], [2, 2], [1, 1], [1, 0]]\n",
      "['[[0, 3], [2, 2], [1, 1], [1, 0]]', '[[0, 1], [2, 2], [1, 1], [1, 0]]', '[[1, 3], [2, 2], [1, 1], [1, 0]]', '[[1, 1], [2, 2], [1, 2], [1, 0]]', '[[0, 2], [2, 2], [1, 1], [1, 0]]', '[[2, 2], [1, 2], [1, 1], [1, 0]]']\n",
      "Popping.. [[2, 2], [1, 2], [1, 1], [1, 0]]\n",
      "(True, 2)\n",
      "['[[0, 2], [2, 2], [1, 1], [1, 0]]']\n",
      "Popping.. [[0, 2], [2, 2], [1, 1], [1, 0]]\n",
      "['[[0, 3], [2, 2], [1, 1], [1, 0]]', '[[0, 1], [2, 2], [1, 1], [1, 0]]', '[[1, 2], [2, 2], [1, 1], [1, 0]]']\n",
      "Popping.. [[1, 2], [2, 2], [1, 1], [1, 0]]\n",
      "['[[0, 3], [2, 2], [1, 1], [1, 0]]', '[[0, 1], [2, 2], [1, 1], [1, 0]]', '[[1, 3], [2, 2], [1, 1], [1, 0]]', '[[1, 1], [2, 2], [1, 2], [1, 0]]', '[[0, 2], [2, 2], [1, 1], [1, 0]]', '[[2, 2], [1, 2], [1, 1], [1, 0]]']\n",
      "Popping.. [[2, 2], [1, 2], [1, 1], [1, 0]]\n",
      "(True, 2)\n"
     ]
    }
   ],
   "source": [
    "# move init state a bit burther away\n",
    "\n",
    "# if u generate subtrees of depth == 1 soln is not found\n",
    "\n",
    "initial_state_2 =  [[0, 2], [2, 2], [1, 1], [1, 0]]\n",
    "\n",
    "depth_subtree = generate_sub_tree(initial_state_2, 1)\n",
    "\n",
    "\n",
    "\n",
    "print (dfs_with_goal(depth_subtree, str(initial_state_2), goal_state))\n",
    "\n",
    "# generate subtrees of depth == 2\n",
    "\n",
    "depth_subtree = generate_sub_tree(initial_state_2, 2)\n",
    "print (dfs_with_goal(depth_subtree, str(initial_state_2), goal_state))\n",
    "\n",
    "\n",
    "# generate subtrees of depth == 4; no diff soln found at depth = 2\n",
    "\n",
    "depth_subtree = generate_sub_tree(initial_state_2, 4)\n",
    "print (dfs_with_goal(depth_subtree, str(initial_state_2), goal_state))"
   ]
  },
  {
   "cell_type": "code",
   "execution_count": null,
   "metadata": {
    "scrolled": false
   },
   "outputs": [],
   "source": [
    "# move init state a bit burther away\n",
    "\n",
    "initial_state_3 =  [[0, 0], [2, 2], [1, 1], [1, 0]]\n",
    "\n",
    "depth_subtree = generate_sub_tree(initial_state_3, 1)\n",
    "depth_subtree = generate_sub_tree(initial_state_3, 4)\n",
    "print (dfs_with_goal(depth_subtree, str(initial_state_3), goal_state))"
   ]
  },
  {
   "cell_type": "markdown",
   "metadata": {},
   "source": [
    "#### SOLUTION FOUND AFTER EXPLORING 34 NODES"
   ]
  },
  {
   "cell_type": "code",
   "execution_count": 77,
   "metadata": {},
   "outputs": [
    {
     "data": {
      "text/plain": [
       "[[3, 0], [0, 0], [1, 0], [2, 0]]"
      ]
     },
     "execution_count": 77,
     "metadata": {},
     "output_type": "execute_result"
    }
   ],
   "source": [
    "initial_state"
   ]
  },
  {
   "cell_type": "code",
   "execution_count": 83,
   "metadata": {
    "scrolled": false
   },
   "outputs": [
    {
     "name": "stdout",
     "output_type": "stream",
     "text": [
      "False\n"
     ]
    }
   ],
   "source": [
    "# original init state\n",
    "\n",
    "initial_state_4 =  [[3, 0], [0, 0], [1, 0], [2, 0]]\n",
    "\n",
    "depth_subtree = generate_sub_tree(initial_state_4, 10)\n",
    "print (dfs_with_goal(depth_subtree, str(initial_state_4), goal_state))"
   ]
  },
  {
   "cell_type": "markdown",
   "metadata": {},
   "source": [
    "### For original initial state given, NO SOLUTION FOUND TILL DEPTH = 10"
   ]
  },
  {
   "cell_type": "code",
   "execution_count": 84,
   "metadata": {
    "scrolled": true
   },
   "outputs": [
    {
     "data": {
      "text/plain": [
       "14"
      ]
     },
     "execution_count": 84,
     "metadata": {},
     "output_type": "execute_result"
    }
   ],
   "source": [
    "def idfs(initial_state, max_depth):\n",
    "    initial_state_copy = copy.deepcopy(initial_state)\n",
    "    for depth in range(1, max_depth + 1):\n",
    "        depth_subtree = generate_sub_tree(initial_state_copy, depth)\n",
    "        dfs_result = dfs_with_goal(depth_subtree, str(initial_state_copy), goal_state)\n",
    "        if dfs_result is not False:\n",
    "            return depth\n",
    "    return False\n",
    "\n",
    "idfs(initial_state_4, 18)"
   ]
  },
  {
   "cell_type": "markdown",
   "metadata": {},
   "source": [
    "### SOLUTION FOUND AT DEPTH == 14"
   ]
  },
  {
   "cell_type": "code",
   "execution_count": 72,
   "metadata": {},
   "outputs": [
    {
     "name": "stdout",
     "output_type": "stream",
     "text": [
      "(True, 1398)\n"
     ]
    }
   ],
   "source": [
    "depth_subtree = generate_sub_tree(initial_state_4, 16)\n",
    "print (dfs_with_goal(depth_subtree, str(initial_state_4), goal_state))"
   ]
  },
  {
   "cell_type": "code",
   "execution_count": 73,
   "metadata": {},
   "outputs": [
    {
     "data": {
      "text/plain": [
       "[[1, 2], [1, 1], [1, 0]]"
      ]
     },
     "execution_count": 73,
     "metadata": {},
     "output_type": "execute_result"
    }
   ],
   "source": [
    "goal_state"
   ]
  },
  {
   "cell_type": "code",
   "execution_count": 141,
   "metadata": {},
   "outputs": [
    {
     "data": {
      "text/plain": [
       "13"
      ]
     },
     "execution_count": 141,
     "metadata": {},
     "output_type": "execute_result"
    }
   ],
   "source": [
    "initial_state_for_heuristic_test = [[0, 0], [3, 0], [3, 3], [0, 2]]\n",
    "\n",
    "def compute_h(current_state):\n",
    "    current_state_copy = copy.deepcopy(current_state)\n",
    "    # test if current state == goal state, then h = 0\n",
    "    if check_if_goal_state(current_state):\n",
    "        return 0\n",
    "    agent_position = current_state_copy[0]\n",
    "    A_position = current_state_copy[1]\n",
    "    B_position = current_state_copy[2]\n",
    "    C_position = current_state_copy[3]\n",
    "    \n",
    "    A_position_goal = goal_state[0]\n",
    "    B_position_goal = goal_state[1]\n",
    "    C_position_goal = goal_state[2]\n",
    "    \n",
    "    A_distance = abs(A_position_goal[0] - A_position[0]) + abs(A_position_goal[1] - A_position[1])\n",
    "    B_distance = abs(B_position_goal[0] - B_position[0]) + abs(B_position_goal[1] - B_position[1])\n",
    "    C_distance = abs(C_position_goal[0] - C_position[0]) + abs(C_position_goal[1] - C_position[1])\n",
    "    \n",
    "    agent_distance_to_A = abs(A_position[0] - agent_position[0]) + abs(A_position[1] - agent_position[1])\n",
    "    agent_distance_to_B = abs(B_position[0] - agent_position[0]) + abs(B_position[1] - agent_position[1])\n",
    "    agent_distance_to_C = abs(C_position[0] - agent_position[0]) + abs(C_position[1] - agent_position[1])\n",
    "    \n",
    "    agent_distance = min(agent_distance_to_A, agent_distance_to_B, agent_distance_to_C)\n",
    "        \n",
    "    return A_distance + B_distance + C_distance + agent_distance\n",
    "    \n",
    "\n",
    "    \n",
    "\n",
    "compute_h(initial_state_for_heuristic_test)\n",
    "\n"
   ]
  },
  {
   "cell_type": "code",
   "execution_count": 92,
   "metadata": {},
   "outputs": [
    {
     "data": {
      "text/plain": [
       "[[1, 2], [2, 2], [1, 1], [1, 0]]"
      ]
     },
     "execution_count": 92,
     "metadata": {},
     "output_type": "execute_result"
    }
   ],
   "source": [
    "initial_state_1"
   ]
  },
  {
   "cell_type": "code",
   "execution_count": 135,
   "metadata": {},
   "outputs": [],
   "source": [
    "def node_to_be_chosen(frontier):\n",
    "    #frontier_copy = copy.deepcopy(frontier)\n",
    "    min_key = None\n",
    "    min_value = 100000\n",
    "    for key, value in frontier.items():\n",
    "        if value < min_value:\n",
    "            min_value = value\n",
    "            min_key = key\n",
    "    del frontier[min_key]\n",
    "    \n",
    "    return min_key\n",
    "            \n",
    "    "
   ]
  },
  {
   "cell_type": "code",
   "execution_count": null,
   "metadata": {
    "scrolled": false
   },
   "outputs": [],
   "source": [
    "def start_exploring_A_star(initial_state, goal_state):\n",
    "    initial_state_copy = copy.deepcopy(initial_state)\n",
    "    goal_state_copy = copy.deepcopy(goal_state)\n",
    "    \n",
    "    explored_states = []\n",
    "    frontier = dict()\n",
    "    path_cost = 0\n",
    "    frontier[str(initial_state_copy)] = path_cost + compute_h(initial_state_copy)\n",
    "    \n",
    "    # change this - test, its ok probably\n",
    "    while frontier:\n",
    "        \n",
    "        # pick min value of cost wala node\n",
    "        # 3 things to be done:\n",
    "            # 1. get current state\n",
    "            # 2 Remove current state from frontier\n",
    "            # 3. Convert to state format \n",
    "            # ast.literal_eval(str(node))\n",
    "        current_sate = ast.literal_eval(str(node_to_be_chosen(frontier)))\n",
    "        \n",
    "        print (\"Current state:\")\n",
    "        print (current_sate)\n",
    "        explored_states.append(current_sate)\n",
    "        print (\"Nodes expanded:\", len(explored_states))\n",
    "        if check_if_goal_state(current_sate):\n",
    "            return explored_states\n",
    "        neighbor_states = generate_neighbor_states(current_sate)\n",
    "        # increase path cost\n",
    "        path_cost += 1\n",
    "        print (\"Path cost..\", path_cost)\n",
    "        for move, neighbor_state in neighbor_states.items():\n",
    "            if neighbor_state is not False:\n",
    "                # compute estimated solution cost for the neighbor state\n",
    "                estimated_cost = compute_h(neighbor_state)\n",
    "                estimated_solution_cost = path_cost + estimated_cost\n",
    "                frontier[str(neighbor_state)] = estimated_solution_cost\n",
    "                print (\"Adding node to frontier\")\n",
    "                print (\"...........................\")\n",
    "                print (\"Move:\", move)\n",
    "                print (neighbor_state)\n",
    "                print (\"Estimated solution cost...\", estimated_solution_cost)\n",
    "        \n",
    "    return explored_states\n",
    "        \n",
    "\n",
    "start_exploring_A_star(initial_state, goal_state)"
   ]
  },
  {
   "cell_type": "code",
   "execution_count": 123,
   "metadata": {
    "scrolled": true
   },
   "outputs": [
    {
     "name": "stdout",
     "output_type": "stream",
     "text": [
      "Updating..\n",
      "Updating..\n",
      "[[3, 1], [0, 0], [1, 0], [2, 0]] 1\n"
     ]
    }
   ],
   "source": [
    "test_frontier = {\n",
    "    '[[3, 0], [0, 0], [1, 0], [2, 0]]': 2,\n",
    "    '[[3, 1], [0, 0], [1, 0], [2, 0]]': 1,\n",
    "    '[[3, 2], [0, 0], [1, 0], [2, 0]]': 4,\n",
    "    '[[3, 3], [0, 0], [1, 0], [2, 0]]': 8\n",
    "    \n",
    "}\n",
    "\n",
    "min_key = None\n",
    "min_value = 100000\n",
    "for key, value in test_frontier.items():\n",
    "    if value < min_value:\n",
    "        print (\"Updating..\")\n",
    "        min_value = value\n",
    "        min_key = key\n",
    "        \n",
    "print (min_key, min_value)"
   ]
  },
  {
   "cell_type": "code",
   "execution_count": 124,
   "metadata": {
    "scrolled": true
   },
   "outputs": [
    {
     "name": "stdout",
     "output_type": "stream",
     "text": [
      "ok\n"
     ]
    }
   ],
   "source": [
    "del test_frontier[min_key]\n",
    "\n",
    "test_frontier\n",
    "\n",
    "while test_frontier:\n",
    "    print (\"ok\")\n",
    "    break"
   ]
  }
 ],
 "metadata": {
  "kernelspec": {
   "display_name": "Python 3",
   "language": "python",
   "name": "python3"
  },
  "language_info": {
   "codemirror_mode": {
    "name": "ipython",
    "version": 3
   },
   "file_extension": ".py",
   "mimetype": "text/x-python",
   "name": "python",
   "nbconvert_exporter": "python",
   "pygments_lexer": "ipython3",
   "version": "3.6.3"
  }
 },
 "nbformat": 4,
 "nbformat_minor": 2
}
