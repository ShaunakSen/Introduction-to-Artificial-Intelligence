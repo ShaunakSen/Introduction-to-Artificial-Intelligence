{
 "cells": [
  {
   "cell_type": "markdown",
   "metadata": {},
   "source": [
    "## How to Implement Breadth-First Search in Python\n",
    "\n",
    "\n",
    "[link](https://pythoninwonderland.wordpress.com/2017/03/18/how-to-implement-breadth-first-search-in-python/)\n",
    "\n",
    "![](https://pythoninwonderland.files.wordpress.com/2017/03/1200px-breadth-first-tree-svg3.png?w=656&h=300&crop=1)\n",
    "\n",
    "\n",
    "Breadth-first search (BFS) is an algorithm used for traversing graph data structures. In other words,  BFS implements a specific strategy for visiting all the nodes (vertices) of a graph – more on graphs in a while. What is this exploration strategy? It’s very simple and effective. BFS starts with a node, then it checks the neighbours of the initial node, then the neighbours of the neighbours, and so on\n",
    "\n",
    "BFS is an AI search algorithm, that can be used for finding solutions to a problem. Indeed, several AI problems can be solved by searching through a great number of solutions. The reasoning process, in these cases, can be reduced to performing a search in a problem space. For instance, solving the Rubik’s Cube can be viewed as searching for a path that leads from an initial state, where the cube is a mess of colours, to the goal state, in which each side of the cube has a single colour. The solution path is a sequence of (admissible) moves.\n",
    "\n",
    "The trick here is to be able to represent the Rubik’s Cube problem as a graph, where the nodes correspond to possible states of the cube and the edges correspond to possible actions (e.g., rotate left/right, up/down). If we can formalise the problem like a graph, then we can use BFS to search for a solution  (at least theoretically, given that the Rubik’s Cube problem is intractable for BFS in terms of memory storage). That’s why BFS is considered to be an AI search algorithm.\n",
    "\n",
    "![](https://pythoninwonderland.files.wordpress.com/2017/03/graph1.png)\n",
    "\n",
    "\n",
    "It is possible to represent a graph in a couple of ways: with an adjacency matrix (that can be implemented as a 2-dimensional list and that is useful for dense graphs) or with an adjacency list (useful for sparse graphs). In this tutorial, I use the adjacency list. An effective/elegant method for implementing adjacency lists in Python is using dictionaries. The keys of the dictionary represent nodes, the values have a list of neighbours.\n",
    "\n",
    "```python\n",
    "\n",
    "# sample graph implemented as a dictionary\n",
    "graph = {'A': ['B', 'C', 'E'],\n",
    "         'B': ['A','D', 'E'],\n",
    "         'C': ['A', 'F', 'G'],\n",
    "         'D': ['B', 'E'],\n",
    "         'E': ['A', 'B','D'],\n",
    "         'F': ['C'],\n",
    "         'G': ['C']}\n",
    "```"
   ]
  },
  {
   "cell_type": "markdown",
   "metadata": {},
   "source": [
    "### The intuition behind BFS\n",
    "\n",
    "BFS visits all the nodes of a graph (connected component) following a breadthward motion. In other words, BFS starts from a node, then it checks all the nodes at distance one from the starting node, then it checks all the nodes at distance two and so on. In order to remember the nodes to be visited, BFS uses a queue. The algorithm can keep track of the vertices it has already checked to avoid revisiting them, in case a graph had one or more cycles.\n",
    "\n",
    "BFS visits all the nodes of a graph (connected component) following a breadthward motion. In other words, BFS starts from a node, then it checks all the nodes at distance one from the starting node, then it checks all the nodes at distance two and so on. In order to remember the nodes to be visited, BFS uses a queue. The algorithm can keep track of the vertices it has already checked to avoid revisiting them, in case a graph had one or more cycles.\n",
    "\n",
    "In particular, BFS follows the following steps:\n",
    "\n",
    "- Check the starting node and add its neighbours to the queue.\n",
    "- Mark the starting node as explored.\n",
    "- Get the first node from the queue / remove it from the queue\n",
    "- Check if node has already been visited.\n",
    "- If not, go through the neighbours of the node.\n",
    "- Add the neighbour nodes to the queue.\n",
    "- Mark the node as explored.\n",
    "- Loop through steps 3 to 7 until the queue is empty.\n",
    "\n",
    "How would BFS traverse our sample graph in case the starting node was ‘A’? The answer is pretty simple. First, BFS would check all of the nodes at distance 1 from ‘A’  (‘B’, ‘E’ and ‘C’). Then, it would visit all of the nodes at distance 2 (‘D’, ‘F’ and ‘G’).\n",
    "\n",
    "\n",
    "Looking at the image below, it’s now clear why we said that BFS follows a breadthward motion. The algorithm checks all the nodes at a given depth (distance from the entry point), before moving to the level below.\n",
    "\n",
    "![](https://pythoninwonderland.files.wordpress.com/2017/03/graphorder.png)\n",
    "\n",
    "### Traversing the graph\n",
    "\n",
    "Let’s start off by initialising a couple of lists that will be necessary to maintain information about the nodes visited and yet to be checked.\n",
    "\n",
    "```python\n",
    "\n",
    "# visits all the nodes of a graph (connected component) using BFS\n",
    "def bfs_connected_component(graph, start):\n",
    "    # keep track of all visited nodes\n",
    "    explored = []\n",
    "    # keep track of nodes to be checked\n",
    "    queue = [start]\n",
    "    \n",
    "```\n",
    "\n",
    "As you can note, queue already has a node to be checked, i.e., the starting vertex that is used as an entry point to explore the graph.\n",
    "\n",
    "The next step is to implement a loop that keeps cycling until queue is empty. At each iteration of the loop, a node is checked.  If this wasn’t visited already, its neighbours are added to queue.\n",
    "\n",
    "```python\n",
    "\n",
    "# visits all the nodes of a graph (connected component) using BFS\n",
    "def bfs_connected_component(graph, start):\n",
    "    # keep track of all visited nodes\n",
    "    explored = []\n",
    "    # keep track of nodes to be checked\n",
    "    queue = [start]\n",
    " \n",
    "    # keep looping until there are nodes still to be checked\n",
    "    while queue:\n",
    "        # pop shallowest node (first node) from queue\n",
    "        node = queue.pop(0)\n",
    "        if node not in explored:\n",
    "            # add node to list of checked nodes\n",
    "            explored.append(node)\n",
    "            neighbours = graph[node]\n",
    " \n",
    "            # add neighbours of node to queue\n",
    "            for neighbour in neighbours:\n",
    "                queue.append(neighbour)\n",
    "    return explored\n",
    " \n",
    "bfs_connected_component(graph,'A') # returns ['A', 'B', 'C', 'E', 'D', 'F', 'G']\n",
    "\n",
    "```"
   ]
  },
  {
   "cell_type": "code",
   "execution_count": 14,
   "metadata": {},
   "outputs": [
    {
     "data": {
      "text/plain": [
       "['A', 'B', 'C', 'E', 'D', 'F', 'G']"
      ]
     },
     "execution_count": 14,
     "metadata": {},
     "output_type": "execute_result"
    }
   ],
   "source": [
    "def bfs_connected_component(graph, start_node):\n",
    "    # keep track of all visited nodes\n",
    "    explored_nodes = []\n",
    "    # keep track of nodes to be checked\n",
    "    frontier = [start_node]\n",
    "    \n",
    "    # keep looping until there are nodes still to be checked\n",
    "    while frontier:\n",
    "        # pop shallowest node (first node) from queue\n",
    "        node = frontier.pop(0)\n",
    "        # this node is automatically removed from frontier\n",
    "        if node not in explored_nodes:\n",
    "            # add node to list of checked nodes\n",
    "            explored_nodes.append(node)\n",
    "            neighbors = graph[node]\n",
    "            \n",
    "            # add neighbours of node to queue\n",
    "            for neighbor in neighbors:\n",
    "                frontier.append(neighbor)\n",
    "    return explored_nodes\n",
    "\n",
    "graph = {'A': ['B', 'C', 'E'],\n",
    "         'B': ['A','D', 'E'],\n",
    "         'C': ['A', 'F', 'G'],\n",
    "         'D': ['B', 'E'],\n",
    "         'E': ['A', 'B','D'],\n",
    "         'F': ['C'],\n",
    "         'G': ['C']}\n",
    "\n",
    "bfs_connected_component(graph, 'A')"
   ]
  },
  {
   "cell_type": "code",
   "execution_count": 13,
   "metadata": {},
   "outputs": [
    {
     "name": "stdout",
     "output_type": "stream",
     "text": [
      "['A', 'B', 'E', 'C', 'A', 'E', 'D', 'B', 'A', 'D', 'A', 'F']\n"
     ]
    },
    {
     "data": {
      "text/plain": [
       "['A', 'B', 'E', 'C', 'A', 'E', 'D', 'B', 'A', 'D', 'A', 'F', 'G']"
      ]
     },
     "execution_count": 13,
     "metadata": {},
     "output_type": "execute_result"
    }
   ],
   "source": [
    "def bfs_connected_component_tree(graph, start_node, end_node):\n",
    "    explored_nodes = []\n",
    "    frontier = [start_node]\n",
    "    expanded_nodes = []\n",
    "    \n",
    "    while frontier:\n",
    "        node = frontier.pop(0)\n",
    "        expanded_nodes.append(node)\n",
    "        if node == end_node:\n",
    "            print (explored_nodes)\n",
    "            return expanded_nodes\n",
    "        # this node is automatically removed from frontier\n",
    "        \n",
    "        explored_nodes.append(node)\n",
    "        neighbors = graph[node]\n",
    "\n",
    "        for neighbor in neighbors:\n",
    "            frontier.append(neighbor)\n",
    "    return explored_nodes\n",
    "\n",
    "graph = {'A': ['B', 'E', 'C'],\n",
    "         'B': ['A','E', 'D'],\n",
    "         'E': ['B', 'A','D'],\n",
    "         'C': ['A', 'F', 'G'],\n",
    "         'D': ['B', 'E'],\n",
    "         'F': ['C'],\n",
    "         'G': ['C']}\n",
    "\n",
    "bfs_connected_component_tree(graph, 'A','G')"
   ]
  },
  {
   "cell_type": "markdown",
   "metadata": {},
   "source": [
    "### Identifying the shortest path between two nodes of a graph\n",
    "\n",
    "For this task, the function we implement should be able to accept as argument a graph, a starting node (e.g., ‘G’) and a node goal (e.g., ‘D’). If the algorithm is able to connect the start and the goal nodes, it has to return the path. The nice thing about BFS is that it **always returns the shortest path, even if there is more than one path that links two vertices.**\n",
    "\n",
    "There are a couple of main differences between the implementations of BDF for traversing a graph and for finding the shortest path. First, in case of the shortest path application, we need for the queue to keep track of possible paths (implemented as list of nodes) instead of nodes. Second, when the algorithm checks for a neighbour node, it needs to check whether the neighbour node corresponds to the goal node. If that’s the case, we have a solution and there’s no need to keep exploring the graph.\n",
    "\n",
    "\n",
    "\n"
   ]
  },
  {
   "cell_type": "code",
   "execution_count": 17,
   "metadata": {},
   "outputs": [
    {
     "name": "stdout",
     "output_type": "stream",
     "text": [
      "[['G']]\n",
      "[['G', 'C']]\n",
      "[['G', 'C', 'A'], ['G', 'C', 'F'], ['G', 'C', 'G']]\n",
      "[['G', 'C', 'F'], ['G', 'C', 'G'], ['G', 'C', 'A', 'B'], ['G', 'C', 'A', 'C'], ['G', 'C', 'A', 'E']]\n",
      "[['G', 'C', 'G'], ['G', 'C', 'A', 'B'], ['G', 'C', 'A', 'C'], ['G', 'C', 'A', 'E'], ['G', 'C', 'F', 'C']]\n",
      "[['G', 'C', 'A', 'B'], ['G', 'C', 'A', 'C'], ['G', 'C', 'A', 'E'], ['G', 'C', 'F', 'C']]\n"
     ]
    },
    {
     "data": {
      "text/plain": [
       "['G', 'C', 'A', 'B', 'D']"
      ]
     },
     "execution_count": 17,
     "metadata": {},
     "output_type": "execute_result"
    }
   ],
   "source": [
    "# finds shortest path between 2 nodes of a graph using BFS\n",
    "def bfs_shortest_path(graph, start, goal):\n",
    "    # keep track of explored nodes\n",
    "    explored = []\n",
    "    # keep track of all the paths to be checked\n",
    "    queue = [[start]]\n",
    " \n",
    "    # return path if start is goal\n",
    "    if start == goal:\n",
    "        return \"That was easy! Start = goal\"\n",
    " \n",
    "    # keeps looping until all possible paths have been checked\n",
    "    while queue:\n",
    "        print (queue)\n",
    "        # pop the first path from the queue\n",
    "        path = queue.pop(0)\n",
    "        # get the last node from the path\n",
    "        node = path[-1]\n",
    "        if node not in explored:\n",
    "            neighbours = graph[node]\n",
    "            # go through all neighbour nodes, construct a new path and\n",
    "            # push it into the queue\n",
    "            for neighbour in neighbours:\n",
    "                new_path = list(path)\n",
    "                new_path.append(neighbour)\n",
    "                queue.append(new_path)\n",
    "                # return path if neighbour is goal\n",
    "                if neighbour == goal:\n",
    "                    return new_path\n",
    " \n",
    "            # mark node as explored\n",
    "            explored.append(node)\n",
    "        \n",
    " \n",
    "    # in case there's no path between the 2 nodes\n",
    "    return \"So sorry, but a connecting path doesn't exist :(\"\n",
    " \n",
    "bfs_shortest_path(graph, 'G', 'D')  # returns ['G', 'C', 'A', 'B', 'D']\n"
   ]
  }
 ],
 "metadata": {
  "kernelspec": {
   "display_name": "Python 3",
   "language": "python",
   "name": "python3"
  },
  "language_info": {
   "codemirror_mode": {
    "name": "ipython",
    "version": 3
   },
   "file_extension": ".py",
   "mimetype": "text/x-python",
   "name": "python",
   "nbconvert_exporter": "python",
   "pygments_lexer": "ipython3",
   "version": "3.6.3"
  }
 },
 "nbformat": 4,
 "nbformat_minor": 2
}
