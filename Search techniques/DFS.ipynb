{
 "cells": [
  {
   "cell_type": "markdown",
   "metadata": {},
   "source": [
    "## Depth First Search\n",
    "\n",
    "[link1](https://www.geeksforgeeks.org/depth-first-search-or-dfs-for-a-graph/)\n",
    "\n",
    "[link2](https://www.koderdojo.com/blog/depth-first-search-in-python-recursive-and-non-recursive-programming)\n",
    "\n",
    "![](https://www.geeksforgeeks.org/wp-content/uploads/dfs1-660x426.png)"
   ]
  },
  {
   "cell_type": "code",
   "execution_count": 59,
   "metadata": {},
   "outputs": [],
   "source": [
    "import copy"
   ]
  },
  {
   "cell_type": "code",
   "execution_count": 26,
   "metadata": {},
   "outputs": [],
   "source": [
    "graph = {\n",
    "    'A': ['B', 'C'],\n",
    "    'B': ['A', 'D', 'E'],\n",
    "    'C': ['A', 'E'],\n",
    "    'D': ['B', 'E', 'F'],\n",
    "    'E': ['B', 'C', 'D', 'F'],\n",
    "    'F': ['D', 'E']\n",
    "}\n"
   ]
  },
  {
   "cell_type": "code",
   "execution_count": 27,
   "metadata": {},
   "outputs": [
    {
     "data": {
      "text/plain": [
       "['D', 'E']"
      ]
     },
     "execution_count": 27,
     "metadata": {},
     "output_type": "execute_result"
    }
   ],
   "source": [
    "graph['F']"
   ]
  },
  {
   "cell_type": "code",
   "execution_count": 29,
   "metadata": {},
   "outputs": [
    {
     "name": "stdout",
     "output_type": "stream",
     "text": [
      "['A']\n",
      "['B', 'C']\n",
      "['B', 'A', 'E']\n",
      "['B', 'A', 'B', 'C', 'D', 'F']\n",
      "['B', 'A', 'B', 'C', 'D', 'D', 'E']\n",
      "['B', 'A', 'B', 'C', 'D', 'D']\n",
      "['B', 'A', 'B', 'C', 'D', 'B', 'E', 'F']\n",
      "['B', 'A', 'B', 'C', 'D', 'B', 'E']\n",
      "['B', 'A', 'B', 'C', 'D', 'B']\n",
      "['B', 'A', 'B', 'C', 'D', 'A', 'D', 'E']\n",
      "['B', 'A', 'B', 'C', 'D', 'A', 'D']\n",
      "['B', 'A', 'B', 'C', 'D', 'A']\n",
      "['B', 'A', 'B', 'C', 'D']\n",
      "['B', 'A', 'B', 'C']\n",
      "['B', 'A', 'B']\n",
      "['B', 'A']\n",
      "['B']\n"
     ]
    },
    {
     "data": {
      "text/plain": [
       "['A', 'C', 'E', 'F', 'D', 'B']"
      ]
     },
     "execution_count": 29,
     "metadata": {},
     "output_type": "execute_result"
    }
   ],
   "source": [
    "def dfs(graph, start):\n",
    "    stack, path = [start], []\n",
    "    \n",
    "\n",
    "\n",
    "    while stack:\n",
    "        print (stack)\n",
    "        vertex = stack.pop()\n",
    "        if vertex in path:\n",
    "            continue\n",
    "        path.append(vertex)\n",
    "        for neighbor in graph[vertex]:\n",
    "            stack.append(neighbor)\n",
    "\n",
    "\n",
    "    return path\n",
    "\n",
    "dfs(graph, 'A')"
   ]
  },
  {
   "cell_type": "markdown",
   "metadata": {},
   "source": [
    "### Depth Limited Search"
   ]
  },
  {
   "cell_type": "code",
   "execution_count": 44,
   "metadata": {},
   "outputs": [
    {
     "name": "stdout",
     "output_type": "stream",
     "text": [
      "['A']\n",
      "1\n",
      "['B', 'C']\n",
      "2\n",
      "['B', 'A', 'E']\n",
      "2\n",
      "['B', 'A']\n",
      "['B']\n",
      "2\n"
     ]
    },
    {
     "data": {
      "text/plain": [
       "['A', 'C', 'E', 'B']"
      ]
     },
     "execution_count": 44,
     "metadata": {},
     "output_type": "execute_result"
    }
   ],
   "source": [
    "def dls(graph, start, limit):\n",
    "    stack, path = [start], []\n",
    "    \n",
    "\n",
    "    level = 0\n",
    "    while stack:\n",
    "        inc_level = False\n",
    "        \n",
    "        print (stack)\n",
    "        vertex = stack.pop()\n",
    "        if vertex in path:\n",
    "            continue\n",
    "        \n",
    "        path.append(vertex)\n",
    "        \n",
    "        if (level < limit):\n",
    "        \n",
    "            for neighbor in graph[vertex]:\n",
    "                stack.append(neighbor)\n",
    "                inc_level = True\n",
    "            if inc_level:\n",
    "                level += 1\n",
    "            \n",
    "        print (level)\n",
    "        \n",
    "            \n",
    "\n",
    "    return path\n",
    "\n",
    "dls(graph, 'A',  2)"
   ]
  },
  {
   "cell_type": "code",
   "execution_count": 85,
   "metadata": {
    "scrolled": false
   },
   "outputs": [
    {
     "data": {
      "text/plain": [
       "{'A': ['B', 'C'],\n",
       " 'B': ['A', 'D', 'E'],\n",
       " 'C': ['A', 'E'],\n",
       " 'D': ['B', 'E', 'F'],\n",
       " 'E': ['B', 'C', 'D', 'F'],\n",
       " 'F': ['D', 'E']}"
      ]
     },
     "execution_count": 85,
     "metadata": {},
     "output_type": "execute_result"
    }
   ],
   "source": [
    "graph\n"
   ]
  },
  {
   "cell_type": "code",
   "execution_count": null,
   "metadata": {},
   "outputs": [],
   "source": []
  },
  {
   "cell_type": "code",
   "execution_count": 84,
   "metadata": {},
   "outputs": [
    {
     "name": "stdout",
     "output_type": "stream",
     "text": [
      "B\n",
      "C\n",
      "B\n",
      "C\n",
      "{'A': ['B', 'C'], 'B': ['A', 'D', 'E'], 'C': ['A', 'E']}\n",
      "{'A': ['B', 'C'], 'B': ['A', 'D', 'E'], 'C': ['A', 'E'], 'D': ['B'], 'E': ['B', 'C']}\n"
     ]
    }
   ],
   "source": [
    "def generate_sub_graph(graph, start, limit):\n",
    "    graph_copy = copy.deepcopy(graph)\n",
    "    new_graph = dict()\n",
    "    expanded_nodes = []\n",
    "    level = 0\n",
    "    \n",
    "    \n",
    "    if limit == 0:\n",
    "        new_graph[start] = []\n",
    "        return new_graph\n",
    "    \n",
    "    \n",
    "    neighbors = graph[start]\n",
    "    new_graph[start] = neighbors\n",
    "    expanded_nodes.append(start)\n",
    "    level += 1\n",
    "    nodes_to_be_assigned = []\n",
    "    \n",
    "    \n",
    "    while level < limit:\n",
    "        for neighbor in neighbors:\n",
    "            new_graph[neighbor] = graph[neighbor]\n",
    "        level += 1\n",
    "    print (new_graph)\n",
    "    \n",
    "    \n",
    "    # logic to create backtracking links\n",
    "    \n",
    "    new_graph2 = copy.deepcopy(new_graph)\n",
    "    \n",
    "    for nodes in new_graph.values():\n",
    "        for node in nodes:\n",
    "            if node not in new_graph.keys():\n",
    "                new_graph2[node] = None\n",
    "                nodes_to_be_assigned.append(node)\n",
    "    \n",
    "    \n",
    "    for node in nodes_to_be_assigned:\n",
    "        node_values = []\n",
    "        for key, values in new_graph.items():\n",
    "            if node in values:\n",
    "                node_values.append(key)\n",
    "        new_graph2[node] = node_values\n",
    "        \n",
    "    print (new_graph2)\n",
    "    \n",
    "generate_sub_graph(graph, 'A', 3)"
   ]
  },
  {
   "cell_type": "code",
   "execution_count": 72,
   "metadata": {},
   "outputs": [
    {
     "name": "stdout",
     "output_type": "stream",
     "text": [
      "{'A': ['B', 'C'], 'B': ['A', 'D', 'E'], 'C': ['A', 'E']}\n",
      "{'A': ['B', 'C'], 'B': ['A', 'D', 'E'], 'C': ['A', 'E'], 'D': ['B'], 'E': ['B', 'C']}\n"
     ]
    }
   ],
   "source": [
    "def dls(graph, start, limit):\n",
    "    # generate tree\n",
    "    #apply dfs on that\n",
    "    new_graph = dict()\n",
    "    \n",
    "    level = 0\n",
    "    neighbors = graph[start]\n",
    "    new_graph[start] = neighbors\n",
    "    level += 1\n",
    "    nodes_to_be_assigned = []\n",
    "    \n",
    "    \n",
    "    while level < limit:\n",
    "        for neighbor in neighbors:\n",
    "            new_graph[neighbor] = graph[neighbor]\n",
    "        level += 1\n",
    "    print (new_graph)\n",
    "    \n",
    "    new_graph2 = copy.deepcopy(new_graph)\n",
    "    \n",
    "    for nodes in new_graph.values():\n",
    "        for node in nodes:\n",
    "            if node not in new_graph.keys():\n",
    "                new_graph2[node] = None\n",
    "                nodes_to_be_assigned.append(node)\n",
    "    \n",
    "    \n",
    "    for node in nodes_to_be_assigned:\n",
    "        node_values = []\n",
    "        for key, values in new_graph.items():\n",
    "            if node in values:\n",
    "                node_values.append(key)\n",
    "        new_graph2[node] = node_values\n",
    "        \n",
    "    print (new_graph2)\n",
    "    return new_graph2\n",
    "    \n",
    "        \n",
    "        \n",
    "        \n",
    "        \n",
    "new_graph = dls(graph, 'A',  2)"
   ]
  },
  {
   "cell_type": "code",
   "execution_count": 69,
   "metadata": {},
   "outputs": [
    {
     "data": {
      "text/plain": [
       "{'A': ['B', 'C'],\n",
       " 'B': ['A', 'D', 'E'],\n",
       " 'C': ['A', 'E'],\n",
       " 'D': ['B'],\n",
       " 'E': ['B', 'C']}"
      ]
     },
     "execution_count": 69,
     "metadata": {},
     "output_type": "execute_result"
    }
   ],
   "source": [
    "new_graph"
   ]
  },
  {
   "cell_type": "code",
   "execution_count": 66,
   "metadata": {
    "scrolled": true
   },
   "outputs": [
    {
     "name": "stdout",
     "output_type": "stream",
     "text": [
      "['A']\n",
      "['B', 'C']\n",
      "['B', 'A', 'E']\n",
      "['B', 'A', 'B', 'C']\n",
      "['B', 'A', 'B']\n",
      "['B', 'A', 'A', 'D', 'E']\n",
      "['B', 'A', 'A', 'D']\n",
      "['B', 'A', 'A', 'B']\n",
      "['B', 'A', 'A']\n",
      "['B', 'A']\n",
      "['B']\n"
     ]
    },
    {
     "data": {
      "text/plain": [
       "['A', 'C', 'E', 'B', 'D']"
      ]
     },
     "execution_count": 66,
     "metadata": {},
     "output_type": "execute_result"
    }
   ],
   "source": [
    "dfs(new_graph, 'A')"
   ]
  },
  {
   "cell_type": "code",
   "execution_count": 103,
   "metadata": {},
   "outputs": [
    {
     "name": "stdout",
     "output_type": "stream",
     "text": [
      "['A', 'B', 'C', 'D']\n",
      "['A']\n",
      "['A', 'B', 'C', 'D', 'A', 'E', 'F', 'A', 'G', 'A', 'H', 'B', 'I', 'B', 'J', 'K', 'C', 'L', 'D', 'M', 'N']\n",
      "['A', 'B', 'C', 'D', 'E', 'F', 'G', 'H']\n",
      "{'A': ['B', 'C', 'D'], 'B': ['A', 'E', 'F'], 'C': ['A', 'G'], 'D': ['A', 'H'], 'E': ['B', 'I'], 'F': ['B', 'J', 'K'], 'G': ['C', 'L'], 'H': ['D', 'M', 'N']}\n"
     ]
    }
   ],
   "source": [
    "link_graph_copy = copy.deepcopy(link_graph)\n",
    "start = 'A'\n",
    "\n",
    "\n",
    "level = 0\n",
    "\n",
    "depth = 2\n",
    "\n",
    "\n",
    "\n",
    "new_link_graph = dict()\n",
    "\n",
    "explored_nodes = []\n",
    "expanded_nodes = []\n",
    "\n",
    "new_link_graph = dict()\n",
    "\n",
    "if level == 0:\n",
    "    new_link_graph[start] = []\n",
    "    explored_nodes.append(start)\n",
    "    level += 1\n",
    "\n",
    "if level == 1:\n",
    "    new_link_graph[start] = link_graph_copy[start]\n",
    "    expanded_nodes.append(start)\n",
    "    for neighbors in link_graph_copy[start]:\n",
    "        for neighbor in neighbors:\n",
    "            explored_nodes.append(neighbor)\n",
    "print (explored_nodes)\n",
    "\n",
    "print (expanded_nodes)            \n",
    "\n",
    "for x in range(level, depth + 1):\n",
    "    nodes_to_be_expanded = []\n",
    "    for node in explored_nodes:\n",
    "        if node not in expanded_nodes:\n",
    "            nodes_to_be_expanded.append(node)\n",
    "    for node in nodes_to_be_expanded:\n",
    "        new_link_graph[node] = link_graph_copy[node]\n",
    "        expanded_nodes.append(node)\n",
    "        for neighbors in link_graph_copy[node]:\n",
    "            for neighbor in neighbors:\n",
    "                explored_nodes.append(neighbor)\n",
    "                \n",
    "                \n",
    "print (explored_nodes)\n",
    "print (expanded_nodes)\n",
    "            \n",
    "\n",
    "\n",
    "\n",
    "\n",
    "print (new_link_graph)"
   ]
  },
  {
   "cell_type": "code",
   "execution_count": 86,
   "metadata": {},
   "outputs": [],
   "source": [
    "link_graph = {\n",
    "    'A': ['B', 'C', 'D'],\n",
    "    'B': ['A', 'E', 'F'],\n",
    "    'C': ['A', 'G'],\n",
    "    'D': ['A', 'H'],\n",
    "    'E': ['B', 'I'],\n",
    "    'F': ['B', 'J', 'K'],\n",
    "    'G': ['C', 'L'],\n",
    "    'H': ['D', 'M', 'N'],\n",
    "    'I': ['E'],\n",
    "    'J': ['F'],\n",
    "    'K': ['F'],\n",
    "    'L': ['G'],\n",
    "    'M': ['H'],\n",
    "    'N': ['H']\n",
    "}"
   ]
  }
 ],
 "metadata": {
  "kernelspec": {
   "display_name": "Python 3",
   "language": "python",
   "name": "python3"
  },
  "language_info": {
   "codemirror_mode": {
    "name": "ipython",
    "version": 3
   },
   "file_extension": ".py",
   "mimetype": "text/x-python",
   "name": "python",
   "nbconvert_exporter": "python",
   "pygments_lexer": "ipython3",
   "version": "3.6.3"
  }
 },
 "nbformat": 4,
 "nbformat_minor": 2
}
