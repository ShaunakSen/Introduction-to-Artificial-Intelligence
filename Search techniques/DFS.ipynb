{
 "cells": [
  {
   "cell_type": "markdown",
   "metadata": {},
   "source": [
    "## Depth First Search\n",
    "\n",
    "[link1](https://www.geeksforgeeks.org/depth-first-search-or-dfs-for-a-graph/)\n",
    "\n",
    "[link2](https://www.koderdojo.com/blog/depth-first-search-in-python-recursive-and-non-recursive-programming)\n",
    "\n",
    "![](https://www.geeksforgeeks.org/wp-content/uploads/dfs1-660x426.png)"
   ]
  },
  {
   "cell_type": "code",
   "execution_count": 4,
   "metadata": {},
   "outputs": [],
   "source": [
    "import copy"
   ]
  },
  {
   "cell_type": "code",
   "execution_count": 3,
   "metadata": {},
   "outputs": [],
   "source": [
    "graph = {\n",
    "    'A': ['B', 'C'],\n",
    "    'B': ['A', 'D', 'E'],\n",
    "    'C': ['A', 'E'],\n",
    "    'D': ['B', 'E', 'F'],\n",
    "    'E': ['B', 'C', 'D', 'F'],\n",
    "    'F': ['D', 'E']\n",
    "}\n"
   ]
  },
  {
   "cell_type": "code",
   "execution_count": 27,
   "metadata": {},
   "outputs": [
    {
     "data": {
      "text/plain": [
       "['D', 'E']"
      ]
     },
     "execution_count": 27,
     "metadata": {},
     "output_type": "execute_result"
    }
   ],
   "source": [
    "graph['F']"
   ]
  },
  {
   "cell_type": "code",
   "execution_count": 5,
   "metadata": {},
   "outputs": [
    {
     "name": "stdout",
     "output_type": "stream",
     "text": [
      "['A']\n",
      "['B', 'C']\n",
      "['B', 'A', 'E']\n",
      "['B', 'A', 'B', 'C', 'D', 'F']\n",
      "['B', 'A', 'B', 'C', 'D', 'D', 'E']\n",
      "['B', 'A', 'B', 'C', 'D', 'D']\n",
      "['B', 'A', 'B', 'C', 'D', 'B', 'E', 'F']\n",
      "['B', 'A', 'B', 'C', 'D', 'B', 'E']\n",
      "['B', 'A', 'B', 'C', 'D', 'B']\n",
      "['B', 'A', 'B', 'C', 'D', 'A', 'D', 'E']\n",
      "['B', 'A', 'B', 'C', 'D', 'A', 'D']\n",
      "['B', 'A', 'B', 'C', 'D', 'A']\n",
      "['B', 'A', 'B', 'C', 'D']\n",
      "['B', 'A', 'B', 'C']\n",
      "['B', 'A', 'B']\n",
      "['B', 'A']\n",
      "['B']\n"
     ]
    },
    {
     "data": {
      "text/plain": [
       "['A', 'C', 'E', 'F', 'D', 'B']"
      ]
     },
     "execution_count": 5,
     "metadata": {},
     "output_type": "execute_result"
    }
   ],
   "source": [
    "def dfs(graph, start):\n",
    "    stack, path = [start], []\n",
    "    \n",
    "\n",
    "\n",
    "    while stack:\n",
    "        print (stack)\n",
    "        vertex = stack.pop()\n",
    "        if vertex in path:\n",
    "            continue\n",
    "        path.append(vertex)\n",
    "        for neighbor in graph[vertex]:\n",
    "            stack.append(neighbor)\n",
    "\n",
    "\n",
    "    return path\n",
    "\n",
    "dfs(graph, 'A')"
   ]
  },
  {
   "cell_type": "markdown",
   "metadata": {},
   "source": [
    "### Depth Limited Search"
   ]
  },
  {
   "cell_type": "markdown",
   "metadata": {},
   "source": [
    "![](https://i1.wp.com/theoryofprogramming.com/wp-content/uploads/2018/01/iddfs-1-1.jpg?resize=676%2C643)"
   ]
  },
  {
   "cell_type": "markdown",
   "metadata": {},
   "source": [
    "### New graph for testing DLS"
   ]
  },
  {
   "cell_type": "code",
   "execution_count": 6,
   "metadata": {
    "scrolled": false
   },
   "outputs": [],
   "source": [
    "link_graph = {\n",
    "    'A': ['B', 'C', 'D'],\n",
    "    'B': ['A', 'E', 'F'],\n",
    "    'C': ['A', 'G'],\n",
    "    'D': ['A', 'H'],\n",
    "    'E': ['B', 'I'],\n",
    "    'F': ['B', 'J', 'K'],\n",
    "    'G': ['C', 'L'],\n",
    "    'H': ['D', 'M', 'N'],\n",
    "    'I': ['E'],\n",
    "    'J': ['F'],\n",
    "    'K': ['F', 'O', 'P'],\n",
    "    'L': ['G', 'R'],\n",
    "    'M': ['H'],\n",
    "    'N': ['H', 'S'],\n",
    "    'O': ['K'],\n",
    "    'P': ['K'],\n",
    "    'R': ['L'],\n",
    "    'S': ['N']\n",
    "}\n"
   ]
  },
  {
   "cell_type": "code",
   "execution_count": 84,
   "metadata": {},
   "outputs": [
    {
     "name": "stdout",
     "output_type": "stream",
     "text": [
      "B\n",
      "C\n",
      "B\n",
      "C\n",
      "{'A': ['B', 'C'], 'B': ['A', 'D', 'E'], 'C': ['A', 'E']}\n",
      "{'A': ['B', 'C'], 'B': ['A', 'D', 'E'], 'C': ['A', 'E'], 'D': ['B'], 'E': ['B', 'C']}\n"
     ]
    }
   ],
   "source": [
    "def generate_sub_graph(graph, start, limit):\n",
    "    graph_copy = copy.deepcopy(graph)\n",
    "    new_graph = dict()\n",
    "    expanded_nodes = []\n",
    "    level = 0\n",
    "    \n",
    "    \n",
    "    if limit == 0:\n",
    "        new_graph[start] = []\n",
    "        return new_graph\n",
    "    \n",
    "    \n",
    "    neighbors = graph[start]\n",
    "    new_graph[start] = neighbors\n",
    "    expanded_nodes.append(start)\n",
    "    level += 1\n",
    "    nodes_to_be_assigned = []\n",
    "    \n",
    "    \n",
    "    while level < limit:\n",
    "        for neighbor in neighbors:\n",
    "            new_graph[neighbor] = graph[neighbor]\n",
    "        level += 1\n",
    "    print (new_graph)\n",
    "    \n",
    "    \n",
    "    # logic to create backtracking links\n",
    "    \n",
    "    new_graph2 = copy.deepcopy(new_graph)\n",
    "    \n",
    "    for nodes in new_graph.values():\n",
    "        for node in nodes:\n",
    "            if node not in new_graph.keys():\n",
    "                new_graph2[node] = None\n",
    "                nodes_to_be_assigned.append(node)\n",
    "    \n",
    "    \n",
    "    for node in nodes_to_be_assigned:\n",
    "        node_values = []\n",
    "        for key, values in new_graph.items():\n",
    "            if node in values:\n",
    "                node_values.append(key)\n",
    "        new_graph2[node] = node_values\n",
    "        \n",
    "    print (new_graph2)\n",
    "    \n",
    "generate_sub_graph(graph, 'A', 3)"
   ]
  },
  {
   "cell_type": "code",
   "execution_count": 137,
   "metadata": {},
   "outputs": [
    {
     "name": "stdout",
     "output_type": "stream",
     "text": [
      "{'A': ['B', 'C', 'D'], 'B': ['A', 'E', 'F'], 'C': ['A', 'G'], 'D': ['A', 'H'], 'E': ['B', 'I'], 'F': ['B', 'J', 'K'], 'G': ['C', 'L'], 'H': ['D', 'M', 'N'], 'I': ['E'], 'J': ['F'], 'K': ['F', 'O', 'P'], 'L': ['G', 'R'], 'M': ['H'], 'N': ['H', 'S']}\n"
     ]
    }
   ],
   "source": [
    "\n",
    "\n",
    "    \n",
    "link_graph_copy = copy.deepcopy(link_graph)\n",
    "\n",
    "level = 0\n",
    "\n",
    "depth = 4\n",
    "\n",
    "\n",
    "\n",
    "\n",
    "\n",
    "new_link_graph = dict()\n",
    "\n",
    "explored_nodes = []\n",
    "expanded_nodes = []\n",
    "\n",
    "new_link_graph = dict()\n",
    "\n",
    "if level == 0:\n",
    "    new_link_graph[start] = []\n",
    "    explored_nodes.append(start)\n",
    "    level += 1\n",
    "\n",
    "\n",
    "if level == 1:\n",
    "    new_link_graph[start] = link_graph_copy[start]\n",
    "    expanded_nodes.append(start)\n",
    "    for neighbors in link_graph_copy[start]:\n",
    "        for neighbor in neighbors:\n",
    "            explored_nodes.append(neighbor)\n",
    "\n",
    "\n",
    "for x in range(level, depth):\n",
    "    nodes_to_be_expanded = []\n",
    "    for node in explored_nodes:\n",
    "        if node not in expanded_nodes:\n",
    "            nodes_to_be_expanded.append(node)\n",
    "    for node in nodes_to_be_expanded:\n",
    "        new_link_graph[node] = link_graph_copy[node]\n",
    "        expanded_nodes.append(node)\n",
    "        for neighbors in link_graph_copy[node]:\n",
    "            for neighbor in neighbors:\n",
    "                explored_nodes.append(neighbor)\n",
    "\n",
    "\n",
    "  \n",
    "print(new_link_graph)\n"
   ]
  },
  {
   "cell_type": "code",
   "execution_count": 10,
   "metadata": {},
   "outputs": [
    {
     "data": {
      "text/plain": [
       "{'A': ['B', 'C', 'D'],\n",
       " 'B': ['A', 'E', 'F'],\n",
       " 'C': ['A', 'G'],\n",
       " 'D': ['A', 'H'],\n",
       " 'E': ['B', 'I'],\n",
       " 'F': ['B', 'J', 'K'],\n",
       " 'G': ['C', 'L'],\n",
       " 'H': ['D', 'M', 'N'],\n",
       " 'I': ['E'],\n",
       " 'J': ['F'],\n",
       " 'K': ['F'],\n",
       " 'L': ['G'],\n",
       " 'M': ['H'],\n",
       " 'N': ['H']}"
      ]
     },
     "execution_count": 10,
     "metadata": {},
     "output_type": "execute_result"
    }
   ],
   "source": [
    "def generate_sub_tree(link_graph, start, depth):\n",
    "    \n",
    "\n",
    "    \n",
    "    link_graph_copy = copy.deepcopy(link_graph)\n",
    "\n",
    "    level = 0\n",
    "\n",
    "    new_link_graph = dict()\n",
    "\n",
    "    explored_nodes = []\n",
    "    expanded_nodes = []\n",
    "\n",
    "    new_link_graph = dict()\n",
    "\n",
    "    if level == 0:\n",
    "        new_link_graph[start] = []\n",
    "        explored_nodes.append(start)\n",
    "        level += 1\n",
    "    if depth == 0:\n",
    "        return new_link_graph\n",
    "\n",
    "\n",
    "    if level == 1:\n",
    "        new_link_graph[start] = link_graph_copy[start]\n",
    "        expanded_nodes.append(start)\n",
    "        for neighbors in link_graph_copy[start]:\n",
    "            for neighbor in neighbors:\n",
    "                explored_nodes.append(neighbor)\n",
    "\n",
    "\n",
    "    for x in range(level, depth):\n",
    "        nodes_to_be_expanded = []\n",
    "        for node in explored_nodes:\n",
    "            if node not in expanded_nodes:\n",
    "                nodes_to_be_expanded.append(node)\n",
    "        for node in nodes_to_be_expanded:\n",
    "            new_link_graph[node] = link_graph_copy[node]\n",
    "            expanded_nodes.append(node)\n",
    "            for neighbors in link_graph_copy[node]:\n",
    "                for neighbor in neighbors:\n",
    "                    explored_nodes.append(neighbor)\n",
    "\n",
    "    \n",
    "\n",
    "    # return new_link_graph\n",
    "    \n",
    "    nodes_to_be_assigned = []\n",
    "\n",
    "    new_graph2 = copy.deepcopy(new_link_graph)\n",
    "    \n",
    "    for nodes in new_link_graph.values():\n",
    "        for node in nodes:\n",
    "            if node not in new_link_graph.keys():\n",
    "                new_graph2[node] = None\n",
    "                nodes_to_be_assigned.append(node)\n",
    "    \n",
    "    \n",
    "    for node in nodes_to_be_assigned:\n",
    "        node_values = []\n",
    "        for key, values in new_link_graph.items():\n",
    "            if node in values:\n",
    "                node_values.append(key)\n",
    "        new_graph2[node] = node_values\n",
    "        \n",
    "    \n",
    "    return new_graph2\n",
    "\n",
    "generate_sub_tree(link_graph, 'A', 3)"
   ]
  },
  {
   "cell_type": "markdown",
   "metadata": {},
   "source": [
    "### Test:\n",
    "\n",
    "DEPTH\tDLS traversal\n",
    "\n",
    "0\tA\n",
    "\n",
    "1\tA B C D\n",
    "\n",
    "2\tA B E F C G D H\n",
    "\n",
    "3\tA B E I F J K C G L D H M N\n",
    "\n",
    "4\tA B E I F J K O P C G L R D H M N S\n"
   ]
  },
  {
   "cell_type": "code",
   "execution_count": 13,
   "metadata": {
    "scrolled": false
   },
   "outputs": [
    {
     "name": "stdout",
     "output_type": "stream",
     "text": [
      "['A']\n",
      "['B', 'C', 'D']\n",
      "['B', 'C', 'A', 'H']\n",
      "['B', 'C', 'A', 'D', 'M', 'N']\n",
      "['B', 'C', 'A', 'D', 'M', 'H']\n",
      "['B', 'C', 'A', 'D', 'M']\n",
      "['B', 'C', 'A', 'D', 'H']\n",
      "['B', 'C', 'A', 'D']\n",
      "['B', 'C', 'A']\n",
      "['B', 'C']\n",
      "['B', 'A', 'G']\n",
      "['B', 'A', 'C', 'L']\n",
      "['B', 'A', 'C', 'G']\n",
      "['B', 'A', 'C']\n",
      "['B', 'A']\n",
      "['B']\n",
      "['A', 'E', 'F']\n",
      "['A', 'E', 'B', 'J', 'K']\n",
      "['A', 'E', 'B', 'J', 'F']\n",
      "['A', 'E', 'B', 'J']\n",
      "['A', 'E', 'B', 'F']\n",
      "['A', 'E', 'B']\n",
      "['A', 'E']\n",
      "['A', 'B', 'I']\n",
      "['A', 'B', 'E']\n",
      "['A', 'B']\n",
      "['A']\n"
     ]
    },
    {
     "data": {
      "text/plain": [
       "['A', 'D', 'H', 'N', 'M', 'C', 'G', 'L', 'B', 'F', 'K', 'J', 'E', 'I']"
      ]
     },
     "execution_count": 13,
     "metadata": {},
     "output_type": "execute_result"
    }
   ],
   "source": [
    "dfs(generate_sub_tree(link_graph, 'A', 3), 'A')"
   ]
  },
  {
   "cell_type": "code",
   "execution_count": 156,
   "metadata": {},
   "outputs": [
    {
     "name": "stdout",
     "output_type": "stream",
     "text": [
      "['[[3, 1], [0, 0], [1, 0], [2, 0]]']\n",
      "['[[3, 2], [0, 0], [1, 0], [2, 0]]', '[[3, 0], [0, 0], [1, 0], [2, 0]]', '[[2, 1], [0, 0], [1, 0], [2, 0]]']\n",
      "['[[3, 2], [0, 0], [1, 0], [2, 0]]', '[[3, 0], [0, 0], [1, 0], [2, 0]]', '[[2, 2], [0, 0], [1, 0], [2, 0]]', '[[2, 0], [0, 0], [1, 0], [2, 1]]', '[[1, 1], [0, 0], [1, 0], [2, 0]]', '[[3, 1], [0, 0], [1, 0], [2, 0]]']\n",
      "['[[3, 2], [0, 0], [1, 0], [2, 0]]', '[[3, 0], [0, 0], [1, 0], [2, 0]]', '[[2, 2], [0, 0], [1, 0], [2, 0]]', '[[2, 0], [0, 0], [1, 0], [2, 1]]', '[[1, 1], [0, 0], [1, 0], [2, 0]]']\n",
      "['[[3, 2], [0, 0], [1, 0], [2, 0]]', '[[3, 0], [0, 0], [1, 0], [2, 0]]', '[[2, 2], [0, 0], [1, 0], [2, 0]]', '[[2, 0], [0, 0], [1, 0], [2, 1]]', '[[2, 1], [0, 0], [1, 0], [2, 0]]']\n",
      "['[[3, 2], [0, 0], [1, 0], [2, 0]]', '[[3, 0], [0, 0], [1, 0], [2, 0]]', '[[2, 2], [0, 0], [1, 0], [2, 0]]', '[[2, 0], [0, 0], [1, 0], [2, 1]]']\n",
      "['[[3, 2], [0, 0], [1, 0], [2, 0]]', '[[3, 0], [0, 0], [1, 0], [2, 0]]', '[[2, 2], [0, 0], [1, 0], [2, 0]]', '[[2, 1], [0, 0], [1, 0], [2, 0]]']\n",
      "['[[3, 2], [0, 0], [1, 0], [2, 0]]', '[[3, 0], [0, 0], [1, 0], [2, 0]]', '[[2, 2], [0, 0], [1, 0], [2, 0]]']\n",
      "['[[3, 2], [0, 0], [1, 0], [2, 0]]', '[[3, 0], [0, 0], [1, 0], [2, 0]]', '[[3, 2], [0, 0], [1, 0], [2, 0]]', '[[2, 1], [0, 0], [1, 0], [2, 0]]']\n",
      "['[[3, 2], [0, 0], [1, 0], [2, 0]]', '[[3, 0], [0, 0], [1, 0], [2, 0]]', '[[3, 2], [0, 0], [1, 0], [2, 0]]']\n",
      "['[[3, 2], [0, 0], [1, 0], [2, 0]]', '[[3, 0], [0, 0], [1, 0], [2, 0]]', '[[3, 3], [0, 0], [1, 0], [2, 0]]', '[[3, 1], [0, 0], [1, 0], [2, 0]]', '[[2, 2], [0, 0], [1, 0], [2, 0]]']\n",
      "['[[3, 2], [0, 0], [1, 0], [2, 0]]', '[[3, 0], [0, 0], [1, 0], [2, 0]]', '[[3, 3], [0, 0], [1, 0], [2, 0]]', '[[3, 1], [0, 0], [1, 0], [2, 0]]']\n",
      "['[[3, 2], [0, 0], [1, 0], [2, 0]]', '[[3, 0], [0, 0], [1, 0], [2, 0]]', '[[3, 3], [0, 0], [1, 0], [2, 0]]']\n",
      "['[[3, 2], [0, 0], [1, 0], [2, 0]]', '[[3, 0], [0, 0], [1, 0], [2, 0]]', '[[3, 2], [0, 0], [1, 0], [2, 0]]']\n",
      "['[[3, 2], [0, 0], [1, 0], [2, 0]]', '[[3, 0], [0, 0], [1, 0], [2, 0]]']\n",
      "['[[3, 2], [0, 0], [1, 0], [2, 0]]', '[[3, 1], [0, 0], [1, 0], [2, 0]]', '[[2, 0], [0, 0], [1, 0], [3, 0]]']\n",
      "['[[3, 2], [0, 0], [1, 0], [2, 0]]', '[[3, 1], [0, 0], [1, 0], [2, 0]]', '[[2, 1], [0, 0], [1, 0], [3, 0]]', '[[1, 0], [0, 0], [2, 0], [3, 0]]', '[[3, 0], [0, 0], [1, 0], [2, 0]]']\n",
      "['[[3, 2], [0, 0], [1, 0], [2, 0]]', '[[3, 1], [0, 0], [1, 0], [2, 0]]', '[[2, 1], [0, 0], [1, 0], [3, 0]]', '[[1, 0], [0, 0], [2, 0], [3, 0]]']\n",
      "['[[3, 2], [0, 0], [1, 0], [2, 0]]', '[[3, 1], [0, 0], [1, 0], [2, 0]]', '[[2, 1], [0, 0], [1, 0], [3, 0]]', '[[1, 1], [0, 0], [2, 0], [3, 0]]', '[[0, 0], [1, 0], [2, 0], [3, 0]]', '[[2, 0], [0, 0], [1, 0], [3, 0]]']\n",
      "['[[3, 2], [0, 0], [1, 0], [2, 0]]', '[[3, 1], [0, 0], [1, 0], [2, 0]]', '[[2, 1], [0, 0], [1, 0], [3, 0]]', '[[1, 1], [0, 0], [2, 0], [3, 0]]', '[[0, 0], [1, 0], [2, 0], [3, 0]]']\n",
      "['[[3, 2], [0, 0], [1, 0], [2, 0]]', '[[3, 1], [0, 0], [1, 0], [2, 0]]', '[[2, 1], [0, 0], [1, 0], [3, 0]]', '[[1, 1], [0, 0], [2, 0], [3, 0]]', '[[1, 0], [0, 0], [2, 0], [3, 0]]']\n",
      "['[[3, 2], [0, 0], [1, 0], [2, 0]]', '[[3, 1], [0, 0], [1, 0], [2, 0]]', '[[2, 1], [0, 0], [1, 0], [3, 0]]', '[[1, 1], [0, 0], [2, 0], [3, 0]]']\n",
      "['[[3, 2], [0, 0], [1, 0], [2, 0]]', '[[3, 1], [0, 0], [1, 0], [2, 0]]', '[[2, 1], [0, 0], [1, 0], [3, 0]]', '[[1, 0], [0, 0], [2, 0], [3, 0]]']\n",
      "['[[3, 2], [0, 0], [1, 0], [2, 0]]', '[[3, 1], [0, 0], [1, 0], [2, 0]]', '[[2, 1], [0, 0], [1, 0], [3, 0]]']\n",
      "['[[3, 2], [0, 0], [1, 0], [2, 0]]', '[[3, 1], [0, 0], [1, 0], [2, 0]]', '[[2, 2], [0, 0], [1, 0], [3, 0]]', '[[2, 0], [0, 0], [1, 0], [3, 0]]', '[[1, 1], [0, 0], [1, 0], [3, 0]]', '[[3, 1], [0, 0], [1, 0], [3, 0]]']\n",
      "['[[3, 2], [0, 0], [1, 0], [2, 0]]', '[[3, 1], [0, 0], [1, 0], [2, 0]]', '[[2, 2], [0, 0], [1, 0], [3, 0]]', '[[2, 0], [0, 0], [1, 0], [3, 0]]', '[[1, 1], [0, 0], [1, 0], [3, 0]]', '[[2, 1], [0, 0], [1, 0], [3, 0]]']\n",
      "['[[3, 2], [0, 0], [1, 0], [2, 0]]', '[[3, 1], [0, 0], [1, 0], [2, 0]]', '[[2, 2], [0, 0], [1, 0], [3, 0]]', '[[2, 0], [0, 0], [1, 0], [3, 0]]', '[[1, 1], [0, 0], [1, 0], [3, 0]]']\n",
      "['[[3, 2], [0, 0], [1, 0], [2, 0]]', '[[3, 1], [0, 0], [1, 0], [2, 0]]', '[[2, 2], [0, 0], [1, 0], [3, 0]]', '[[2, 0], [0, 0], [1, 0], [3, 0]]', '[[2, 1], [0, 0], [1, 0], [3, 0]]']\n",
      "['[[3, 2], [0, 0], [1, 0], [2, 0]]', '[[3, 1], [0, 0], [1, 0], [2, 0]]', '[[2, 2], [0, 0], [1, 0], [3, 0]]', '[[2, 0], [0, 0], [1, 0], [3, 0]]']\n",
      "['[[3, 2], [0, 0], [1, 0], [2, 0]]', '[[3, 1], [0, 0], [1, 0], [2, 0]]', '[[2, 2], [0, 0], [1, 0], [3, 0]]']\n",
      "['[[3, 2], [0, 0], [1, 0], [2, 0]]', '[[3, 1], [0, 0], [1, 0], [2, 0]]', '[[2, 1], [0, 0], [1, 0], [3, 0]]']\n",
      "['[[3, 2], [0, 0], [1, 0], [2, 0]]', '[[3, 1], [0, 0], [1, 0], [2, 0]]']\n",
      "['[[3, 2], [0, 0], [1, 0], [2, 0]]']\n"
     ]
    },
    {
     "data": {
      "text/plain": [
       "['[[3, 1], [0, 0], [1, 0], [2, 0]]',\n",
       " '[[2, 1], [0, 0], [1, 0], [2, 0]]',\n",
       " '[[1, 1], [0, 0], [1, 0], [2, 0]]',\n",
       " '[[2, 0], [0, 0], [1, 0], [2, 1]]',\n",
       " '[[2, 2], [0, 0], [1, 0], [2, 0]]',\n",
       " '[[3, 2], [0, 0], [1, 0], [2, 0]]',\n",
       " '[[3, 3], [0, 0], [1, 0], [2, 0]]',\n",
       " '[[3, 0], [0, 0], [1, 0], [2, 0]]',\n",
       " '[[2, 0], [0, 0], [1, 0], [3, 0]]',\n",
       " '[[1, 0], [0, 0], [2, 0], [3, 0]]',\n",
       " '[[0, 0], [1, 0], [2, 0], [3, 0]]',\n",
       " '[[1, 1], [0, 0], [2, 0], [3, 0]]',\n",
       " '[[2, 1], [0, 0], [1, 0], [3, 0]]',\n",
       " '[[3, 1], [0, 0], [1, 0], [3, 0]]',\n",
       " '[[1, 1], [0, 0], [1, 0], [3, 0]]',\n",
       " '[[2, 2], [0, 0], [1, 0], [3, 0]]']"
      ]
     },
     "execution_count": 156,
     "metadata": {},
     "output_type": "execute_result"
    }
   ],
   "source": [
    "test = {'[[0, 0], [1, 0], [2, 0], [3, 0]]': ['[[1, 0], [0, 0], [2, 0], [3, 0]]'],\n",
    " '[[1, 0], [0, 0], [2, 0], [3, 0]]': ['[[1, 1], [0, 0], [2, 0], [3, 0]]',\n",
    "                                      '[[0, 0], [1, 0], [2, 0], [3, 0]]',\n",
    "                                      '[[2, 0], [0, 0], [1, 0], [3, 0]]'],\n",
    " '[[1, 1], [0, 0], [1, 0], [2, 0]]': ['[[2, 1], [0, 0], [1, 0], [2, 0]]'],\n",
    " '[[1, 1], [0, 0], [1, 0], [3, 0]]': ['[[2, 1], [0, 0], [1, 0], [3, 0]]'],\n",
    " '[[1, 1], [0, 0], [2, 0], [3, 0]]': ['[[1, 0], [0, 0], [2, 0], [3, 0]]'],\n",
    " '[[2, 0], [0, 0], [1, 0], [2, 1]]': ['[[2, 1], [0, 0], [1, 0], [2, 0]]'],\n",
    " '[[2, 0], [0, 0], [1, 0], [3, 0]]': ['[[2, 1], [0, 0], [1, 0], [3, 0]]',\n",
    "                                      '[[1, 0], [0, 0], [2, 0], [3, 0]]',\n",
    "                                      '[[3, 0], [0, 0], [1, 0], [2, 0]]'],\n",
    " '[[2, 1], [0, 0], [1, 0], [2, 0]]': ['[[2, 2], [0, 0], [1, 0], [2, 0]]',\n",
    "                                      '[[2, 0], [0, 0], [1, 0], [2, 1]]',\n",
    "                                      '[[1, 1], [0, 0], [1, 0], [2, 0]]',\n",
    "                                      '[[3, 1], [0, 0], [1, 0], [2, 0]]'],\n",
    " '[[2, 1], [0, 0], [1, 0], [3, 0]]': ['[[2, 2], [0, 0], [1, 0], [3, 0]]',\n",
    "                                      '[[2, 0], [0, 0], [1, 0], [3, 0]]',\n",
    "                                      '[[1, 1], [0, 0], [1, 0], [3, 0]]',\n",
    "                                      '[[3, 1], [0, 0], [1, 0], [3, 0]]'],\n",
    " '[[2, 2], [0, 0], [1, 0], [2, 0]]': ['[[3, 2], [0, 0], [1, 0], [2, 0]]',\n",
    "                                      '[[2, 1], [0, 0], [1, 0], [2, 0]]'],\n",
    " '[[2, 2], [0, 0], [1, 0], [3, 0]]': ['[[2, 1], [0, 0], [1, 0], [3, 0]]'],\n",
    " '[[3, 0], [0, 0], [1, 0], [2, 0]]': ['[[3, 1], [0, 0], [1, 0], [2, 0]]',\n",
    "                                      '[[2, 0], [0, 0], [1, 0], [3, 0]]'],\n",
    " '[[3, 1], [0, 0], [1, 0], [2, 0]]': ['[[3, 2], [0, 0], [1, 0], [2, 0]]',\n",
    "                                      '[[3, 0], [0, 0], [1, 0], [2, 0]]',\n",
    "                                      '[[2, 1], [0, 0], [1, 0], [2, 0]]'],\n",
    " '[[3, 1], [0, 0], [1, 0], [3, 0]]': ['[[2, 1], [0, 0], [1, 0], [3, 0]]'],\n",
    " '[[3, 2], [0, 0], [1, 0], [2, 0]]': ['[[3, 3], [0, 0], [1, 0], [2, 0]]',\n",
    "                                      '[[3, 1], [0, 0], [1, 0], [2, 0]]',\n",
    "                                      '[[2, 2], [0, 0], [1, 0], [2, 0]]'],\n",
    " '[[3, 3], [0, 0], [1, 0], [2, 0]]': ['[[3, 2], [0, 0], [1, 0], [2, 0]]']}\n",
    "\n",
    "dfs(test, '[[3, 1], [0, 0], [1, 0], [2, 0]]')"
   ]
  }
 ],
 "metadata": {
  "kernelspec": {
   "display_name": "Python 3",
   "language": "python",
   "name": "python3"
  },
  "language_info": {
   "codemirror_mode": {
    "name": "ipython",
    "version": 3
   },
   "file_extension": ".py",
   "mimetype": "text/x-python",
   "name": "python",
   "nbconvert_exporter": "python",
   "pygments_lexer": "ipython3",
   "version": "3.6.3"
  }
 },
 "nbformat": 4,
 "nbformat_minor": 2
}
