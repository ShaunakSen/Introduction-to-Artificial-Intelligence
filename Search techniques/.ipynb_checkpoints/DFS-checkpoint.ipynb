{
 "cells": [
  {
   "cell_type": "code",
   "execution_count": 1,
   "metadata": {},
   "outputs": [],
   "source": [
    "graph = {\n",
    "    'A': ['B', 'C'],\n",
    "    'B': ['A', 'D', 'E'],\n",
    "    'C': ['A', 'E'],\n",
    "    'D': ['B', 'E', 'F'],\n",
    "    'E': ['B', 'C', 'D', 'F'],\n",
    "    'F': ['D', 'E']\n",
    "}\n"
   ]
  },
  {
   "cell_type": "code",
   "execution_count": 8,
   "metadata": {},
   "outputs": [
    {
     "data": {
      "text/plain": [
       "['A', 'C', 'E', 'F', 'D', 'B']"
      ]
     },
     "execution_count": 8,
     "metadata": {},
     "output_type": "execute_result"
    }
   ],
   "source": [
    "def dfs_iterative(graph, start):\n",
    "    stack, path = [start], []\n",
    "\n",
    "    while stack:\n",
    "        vertex = stack.pop()\n",
    "        if vertex in path:\n",
    "            continue\n",
    "        path.append(vertex)\n",
    "        for neighbor in graph[vertex]:\n",
    "            stack.append(neighbor)\n",
    "\n",
    "    return path\n",
    "\n",
    "dfs_iterative(graph, 'A')"
   ]
  }
 ],
 "metadata": {
  "kernelspec": {
   "display_name": "Python 3",
   "language": "python",
   "name": "python3"
  },
  "language_info": {
   "codemirror_mode": {
    "name": "ipython",
    "version": 3
   },
   "file_extension": ".py",
   "mimetype": "text/x-python",
   "name": "python",
   "nbconvert_exporter": "python",
   "pygments_lexer": "ipython3",
   "version": "3.6.3"
  }
 },
 "nbformat": 4,
 "nbformat_minor": 2
}
