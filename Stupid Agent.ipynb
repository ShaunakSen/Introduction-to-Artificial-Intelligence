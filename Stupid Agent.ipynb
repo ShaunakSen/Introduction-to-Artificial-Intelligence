{
 "cells": [
  {
   "cell_type": "markdown",
   "metadata": {},
   "source": [
    "## Creating the state space\n",
    "\n",
    "Assume : Bottom left corner is the Origin (0, 0)\n",
    "\n",
    "Grid size: 4x4"
   ]
  },
  {
   "cell_type": "code",
   "execution_count": 5,
   "metadata": {},
   "outputs": [
    {
     "data": {
      "text/plain": [
       "[[3, 0], [0, 0], [1, 0], [2, 0]]"
      ]
     },
     "execution_count": 5,
     "metadata": {},
     "output_type": "execute_result"
    }
   ],
   "source": [
    "import copy\n",
    "\n",
    "N = 4\n",
    "\n",
    "origin = (0, 0)\n",
    "\n",
    "agent_position = [3, 0]\n",
    "\n",
    "A_position = [0, 0]\n",
    "B_position = [1, 0]\n",
    "C_position = [2, 0]\n",
    "\n",
    "possible_moves = [\"left\", \"right\", \"up\", \"down\"]\n",
    "\n",
    "initial_state = [\n",
    "    agent_position, A_position, B_position, C_position\n",
    "]\n",
    "\n",
    "initial_state"
   ]
  },
  {
   "cell_type": "markdown",
   "metadata": {},
   "source": [
    "### Moving agent vertically"
   ]
  },
  {
   "cell_type": "code",
   "execution_count": 63,
   "metadata": {},
   "outputs": [
    {
     "data": {
      "text/plain": [
       "[[2, 2], [0, 0], [2, 0], [3, 2]]"
      ]
     },
     "execution_count": 63,
     "metadata": {},
     "output_type": "execute_result"
    }
   ],
   "source": [
    "def move_agent_vertically(current_state, unit):\n",
    "    if unit not in [1, -1]:\n",
    "        print (\"Wrong unit...\")\n",
    "        return False\n",
    "    current_state_copy = copy.deepcopy(current_state)\n",
    "    agent_position = current_state_copy[0]\n",
    "    A_position = current_state_copy[1]\n",
    "    B_position = current_state_copy[2]\n",
    "    C_position = current_state_copy[3]\n",
    "    if (agent_position[1] == 3 and unit == 1) or (agent_position[1] == 0 and unit == -1):\n",
    "        # cannot move vertically; border\n",
    "        print (\"cannot move vertically: border\")\n",
    "        return False\n",
    "    else:\n",
    "        # not at border\n",
    "        # check if tile next to agent\n",
    "        # if true, we simply need to swap posiition of agent and tile\n",
    "        if A_position[0] == agent_position[0] and (A_position[1] - agent_position[1]) == unit:\n",
    "            agent_position[1], A_position[1] = A_position[1], agent_position[1]\n",
    "            return current_state_copy\n",
    "        if B_position[0] == agent_position[0] and (B_position[1] - agent_position[1]) == unit:\n",
    "            agent_position[1], B_position[1] = B_position[1], agent_position[1]\n",
    "            return current_state_copy\n",
    "        if C_position[0] == agent_position[0] and (C_position[1] - agent_position[1]) == unit:\n",
    "            agent_position[1], C_position[1] = C_position[1], agent_position[1]\n",
    "            return current_state_copy\n",
    "        \n",
    "        # no tile above agent\n",
    "        agent_position[1] += unit\n",
    "        return current_state_copy\n",
    "    \n",
    "\n",
    "move_agent_vertically([[2, 3], [0, 0], [2, 0], [3, 2]], -1)"
   ]
  },
  {
   "cell_type": "markdown",
   "metadata": {},
   "source": [
    "### Moving Agent horizontally"
   ]
  },
  {
   "cell_type": "code",
   "execution_count": 64,
   "metadata": {},
   "outputs": [
    {
     "data": {
      "text/plain": [
       "[[3, 2], [1, 0], [2, 0], [2, 2]]"
      ]
     },
     "execution_count": 64,
     "metadata": {},
     "output_type": "execute_result"
    }
   ],
   "source": [
    "def move_agent_horizontally(current_state, unit):\n",
    "    if unit not in [1, -1]:\n",
    "        print (\"Wrong unit...\")\n",
    "        return False\n",
    "    current_state_copy = copy.deepcopy(current_state)\n",
    "    agent_position = current_state_copy[0]\n",
    "    A_position = current_state_copy[1]\n",
    "    B_position = current_state_copy[2]\n",
    "    C_position = current_state_copy[3]\n",
    "    if (agent_position[0] == 3 and unit == 1) or (agent_position[0] == 0 and unit == -1):\n",
    "        # cannot move horizontally; border\n",
    "        print (\"cannot move horizontally: border\")\n",
    "        return False\n",
    "    else:\n",
    "        # not at border\n",
    "        # check if tile next to agent\n",
    "        # if true, we simply need to swap posiition of agent and tile\n",
    "        if A_position[1] == agent_position[1] and (A_position[0] - agent_position[0]) == unit:\n",
    "            agent_position[0], A_position[0] = A_position[0], agent_position[0]\n",
    "            return current_state_copy\n",
    "        if B_position[1] == agent_position[1] and (B_position[0] - agent_position[0]) == unit:\n",
    "            agent_position[0], B_position[0] = B_position[0], agent_position[0]\n",
    "            return current_state_copy\n",
    "        if C_position[1] == agent_position[1] and (C_position[0] - agent_position[0]) == unit:\n",
    "            agent_position[0], C_position[0] = C_position[0], agent_position[0]\n",
    "            return current_state_copy\n",
    "        \n",
    "        # no tile above agent\n",
    "        agent_position[0] += unit\n",
    "        return current_state_copy\n",
    "    \n",
    "\n",
    "move_agent_horizontally([[2, 2], [1, 0], [2, 0], [3, 2]], 1)"
   ]
  },
  {
   "cell_type": "code",
   "execution_count": 14,
   "metadata": {
    "scrolled": true
   },
   "outputs": [
    {
     "name": "stdout",
     "output_type": "stream",
     "text": [
      "[4, 1] [1, 4]\n"
     ]
    }
   ],
   "source": [
    "x = [1, 4]\n",
    "y = [4, 1]\n",
    "\n",
    "x, y = y, x\n",
    "\n",
    "print (x, y)"
   ]
  }
 ],
 "metadata": {
  "kernelspec": {
   "display_name": "Python 3",
   "language": "python",
   "name": "python3"
  },
  "language_info": {
   "codemirror_mode": {
    "name": "ipython",
    "version": 3
   },
   "file_extension": ".py",
   "mimetype": "text/x-python",
   "name": "python",
   "nbconvert_exporter": "python",
   "pygments_lexer": "ipython3",
   "version": "3.6.3"
  }
 },
 "nbformat": 4,
 "nbformat_minor": 2
}
