{
 "cells": [
  {
   "cell_type": "markdown",
   "metadata": {},
   "source": [
    "## Creating the state space\n",
    "\n",
    "Assume : Bottom left corner is the Origin (0, 0)\n",
    "\n",
    "Grid size: 4x4"
   ]
  },
  {
   "cell_type": "code",
   "execution_count": 80,
   "metadata": {},
   "outputs": [],
   "source": [
    "import copy\n",
    "\n",
    "from pprint import pprint\n",
    "\n",
    "N = 4\n",
    "\n",
    "origin = (0, 0)\n",
    "\n",
    "agent_position = [3, 0]\n",
    "\n",
    "A_position = [0, 0]\n",
    "B_position = [1, 0]\n",
    "C_position = [2, 0]\n",
    "\n",
    "possible_moves = [\"left\", \"right\", \"up\", \"down\"]\n",
    "\n",
    "initial_state = [\n",
    "    agent_position, A_position, B_position, C_position\n",
    "]\n",
    "\n",
    "initial_state\n",
    "\n",
    "goal_state = [\n",
    "    [1, 2], [1, 1], [1, 0]\n",
    "]"
   ]
  },
  {
   "cell_type": "markdown",
   "metadata": {},
   "source": [
    "### Moving agent vertically"
   ]
  },
  {
   "cell_type": "code",
   "execution_count": 72,
   "metadata": {},
   "outputs": [
    {
     "data": {
      "text/plain": [
       "[[2, 2], [0, 0], [2, 0], [3, 2]]"
      ]
     },
     "execution_count": 72,
     "metadata": {},
     "output_type": "execute_result"
    }
   ],
   "source": [
    "def move_agent_vertically(current_state, unit):\n",
    "    if unit not in [1, -1]:\n",
    "        print (\"Wrong unit...\")\n",
    "        return False\n",
    "    current_state_copy = copy.deepcopy(current_state)\n",
    "    agent_position = current_state_copy[0]\n",
    "    A_position = current_state_copy[1]\n",
    "    B_position = current_state_copy[2]\n",
    "    C_position = current_state_copy[3]\n",
    "    if (agent_position[1] == 3 and unit == 1) or (agent_position[1] == 0 and unit == -1):\n",
    "        # cannot move vertically; border\n",
    "        # print (\"cannot move vertically: border\")\n",
    "        return False\n",
    "    else:\n",
    "        # not at border\n",
    "        # check if tile next to agent\n",
    "        # if true, we simply need to swap posiition of agent and tile\n",
    "        if A_position[0] == agent_position[0] and (A_position[1] - agent_position[1]) == unit:\n",
    "            agent_position[1], A_position[1] = A_position[1], agent_position[1]\n",
    "            return current_state_copy\n",
    "        if B_position[0] == agent_position[0] and (B_position[1] - agent_position[1]) == unit:\n",
    "            agent_position[1], B_position[1] = B_position[1], agent_position[1]\n",
    "            return current_state_copy\n",
    "        if C_position[0] == agent_position[0] and (C_position[1] - agent_position[1]) == unit:\n",
    "            agent_position[1], C_position[1] = C_position[1], agent_position[1]\n",
    "            return current_state_copy\n",
    "        \n",
    "        # no tile above agent\n",
    "        agent_position[1] += unit\n",
    "        return current_state_copy\n",
    "    \n",
    "\n",
    "move_agent_vertically([[2, 3], [0, 0], [2, 0], [3, 2]], -1)"
   ]
  },
  {
   "cell_type": "markdown",
   "metadata": {},
   "source": [
    "### Moving Agent horizontally"
   ]
  },
  {
   "cell_type": "code",
   "execution_count": 73,
   "metadata": {},
   "outputs": [
    {
     "data": {
      "text/plain": [
       "[[3, 2], [1, 0], [2, 0], [2, 2]]"
      ]
     },
     "execution_count": 73,
     "metadata": {},
     "output_type": "execute_result"
    }
   ],
   "source": [
    "def move_agent_horizontally(current_state, unit):\n",
    "    if unit not in [1, -1]:\n",
    "        print (\"Wrong unit...\")\n",
    "        return False\n",
    "    current_state_copy = copy.deepcopy(current_state)\n",
    "    agent_position = current_state_copy[0]\n",
    "    A_position = current_state_copy[1]\n",
    "    B_position = current_state_copy[2]\n",
    "    C_position = current_state_copy[3]\n",
    "    if (agent_position[0] == 3 and unit == 1) or (agent_position[0] == 0 and unit == -1):\n",
    "        # cannot move horizontally; border\n",
    "        # print (\"cannot move horizontally: border\")\n",
    "        return False\n",
    "    else:\n",
    "        # not at border\n",
    "        # check if tile next to agent\n",
    "        # if true, we simply need to swap posiition of agent and tile\n",
    "        if A_position[1] == agent_position[1] and (A_position[0] - agent_position[0]) == unit:\n",
    "            agent_position[0], A_position[0] = A_position[0], agent_position[0]\n",
    "            return current_state_copy\n",
    "        if B_position[1] == agent_position[1] and (B_position[0] - agent_position[0]) == unit:\n",
    "            agent_position[0], B_position[0] = B_position[0], agent_position[0]\n",
    "            return current_state_copy\n",
    "        if C_position[1] == agent_position[1] and (C_position[0] - agent_position[0]) == unit:\n",
    "            agent_position[0], C_position[0] = C_position[0], agent_position[0]\n",
    "            return current_state_copy\n",
    "        \n",
    "        # no tile above agent\n",
    "        agent_position[0] += unit\n",
    "        return current_state_copy\n",
    "    \n",
    "\n",
    "move_agent_horizontally([[2, 2], [1, 0], [2, 0], [3, 2]], 1)"
   ]
  },
  {
   "cell_type": "code",
   "execution_count": 74,
   "metadata": {
    "scrolled": true
   },
   "outputs": [
    {
     "data": {
      "text/plain": [
       "{'D': [[3, 1], [1, 0], [3, 2], [2, 2]],\n",
       " 'L': [[2, 2], [1, 0], [3, 1], [3, 2]],\n",
       " 'R': False,\n",
       " 'U': [[3, 3], [1, 0], [3, 1], [2, 2]]}"
      ]
     },
     "execution_count": 74,
     "metadata": {},
     "output_type": "execute_result"
    }
   ],
   "source": [
    "def all_moves(current_state):\n",
    "    current_state_copy = copy.deepcopy(current_state)\n",
    "    neighbor_sates = []\n",
    "    neighbor_sates_dict = dict()\n",
    "    neighbor_sates.append([move_agent_vertically(current_state_copy, 1), \n",
    "                          move_agent_vertically(current_state_copy, -1), move_agent_horizontally(current_state, -1),\n",
    "                         move_agent_horizontally(current_state, 1)])\n",
    "    \n",
    "    neighbor_sates_dict['U'] = neighbor_sates[0][0]\n",
    "    neighbor_sates_dict['D'] = neighbor_sates[0][1]\n",
    "    neighbor_sates_dict['L'] = neighbor_sates[0][2]\n",
    "    neighbor_sates_dict['R'] = neighbor_sates[0][3]\n",
    "    return neighbor_sates_dict\n",
    "\n",
    "all_moves([[3, 2], [1, 0], [3, 1], [2, 2]])"
   ]
  },
  {
   "cell_type": "code",
   "execution_count": 84,
   "metadata": {},
   "outputs": [
    {
     "data": {
      "text/plain": [
       "True"
      ]
     },
     "execution_count": 84,
     "metadata": {},
     "output_type": "execute_result"
    }
   ],
   "source": [
    "def check_if_goal_state(state):\n",
    "    state_copy = copy.deepcopy(state)\n",
    "    # only positions of the tiles matter for goal, not the position of the agent\n",
    "    if state_copy[1] == goal_state[0] and state_copy[2] == goal_state[1] and state_copy[3] == goal_state[2]:\n",
    "        return True\n",
    "    return False\n",
    "\n",
    "check_if_goal_state([[3, 2], [1, 2], [1, 1], [1, 0]])"
   ]
  },
  {
   "cell_type": "code",
   "execution_count": 79,
   "metadata": {},
   "outputs": [
    {
     "name": "stdout",
     "output_type": "stream",
     "text": [
      "[[3, 0], [0, 0], [1, 0], [2, 0]]\n",
      "{'D': False,\n",
      " 'L': [[2, 0], [0, 0], [1, 0], [3, 0]],\n",
      " 'R': False,\n",
      " 'U': [[3, 1], [0, 0], [1, 0], [2, 0]]}\n",
      "[[3, 1], [0, 0], [1, 0], [2, 0]]\n",
      "False\n",
      "[[2, 0], [0, 0], [1, 0], [3, 0]]\n",
      "False\n"
     ]
    }
   ],
   "source": [
    "pprint(initial_state)\n",
    "\n",
    "def generate_neighbor_states(current_state):\n",
    "    current_state_copy = copy.deepcopy(current_state)\n",
    "    all_moves_result = all_moves(current_state_copy)\n",
    "    pprint(all_moves_result)\n",
    "    for resulting_state in all_moves_result.values():\n",
    "        print (resulting_state)\n",
    "        \n",
    "generate_neighbor_states(initial_state)\n",
    "        "
   ]
  }
 ],
 "metadata": {
  "kernelspec": {
   "display_name": "Python 3",
   "language": "python",
   "name": "python3"
  },
  "language_info": {
   "codemirror_mode": {
    "name": "ipython",
    "version": 3
   },
   "file_extension": ".py",
   "mimetype": "text/x-python",
   "name": "python",
   "nbconvert_exporter": "python",
   "pygments_lexer": "ipython3",
   "version": "3.6.3"
  }
 },
 "nbformat": 4,
 "nbformat_minor": 2
}
