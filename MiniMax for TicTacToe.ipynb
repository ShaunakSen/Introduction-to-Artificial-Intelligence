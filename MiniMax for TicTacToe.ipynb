{
 "cells": [
  {
   "cell_type": "markdown",
   "metadata": {},
   "source": [
    "## Solving TicTacToe using MiniMax algorithm\n",
    "\n",
    "[link](https://cwoebker.com/posts/tic-tac-toe)\n",
    "\n",
    "\n",
    "### Stats for the game\n",
    "\n",
    "One could assume that there are 9! different possible game states for Tic Tac Toe. After there would be a winner, players would stop playing so we have to discard those states. Instead of the full 9! = 362,880 states we therefore only have 255,168 possible game states.\n",
    "\n",
    "131,184 (1st player)\n",
    "77,904 (2nd player)\n",
    "46,080 (tie)\n",
    "This might seem like a lot but for a Computer this is a joke. If we assume symmetries (discarding states already present by rotations or reflections) this changes to just about 26,830 possibilitiess.\n",
    "\n",
    "There are 138 terminal positions after assuming symmetries.\n",
    "\n",
    "91 (player 1)\n",
    "44 (player 2)\n",
    "3 (tie)\n",
    "\n",
    "Tic Tac Toe is something called a zero-sum game. A game where the outcome always sums up to zero in the end. Furthermore this is a perfect information game where the game state is completely open to you. You know everything about it, no hidden cards or anything like that. Therefore you can play perfectly since no luck or unknown variables are involved. (Playing perfectly doesn’t mean you will win). For this purpose this means there will always be a tie.\n",
    "\n",
    "When every single one of us plays Tic Tac Toe it is easy to say what goes on in our minds:\n",
    "\n",
    "We look at the board and try to predict the future. We try to find the move that will be best for us and worst for our opponent.\n",
    "\n",
    "Essentially the computer does the exact same thing. It has one important advantage though it can see further into the future (given enough computing power). We could make the computer look far enough so it could see every possible move. This is how the computer can play perfectly and this is how many AI’s related to abstract games (chess, connect four, …) are implemented. If the games are too complex the computer might not be able to compute everything, but we don’t have to worry about that yet."
   ]
  },
  {
   "cell_type": "code",
   "execution_count": 2,
   "metadata": {},
   "outputs": [],
   "source": [
    "class Tic(object):\n",
    "    winning_combos = (\n",
    "        [0, 1, 2], [3, 4, 5], [6, 7, 8],\n",
    "        [0, 3, 6], [1, 4, 7], [2, 5, 8],\n",
    "        [0, 4, 8], [2, 4, 6])\n",
    "\n",
    "    winners = ('X-win', 'Draw', 'O-win')\n",
    "\n",
    "    def __init__(self, squares=[]):\n",
    "        if len(squares) == 0:\n",
    "            self.squares = [None for i in range(9)]\n",
    "        else:\n",
    "            self.squares = squares\n",
    "\n",
    "    def show(self):\n",
    "        for element in [self.squares[i:i + 3] for i in range(0, len(self.squares), 3)]:\n",
    "            print (element)\n",
    "\n",
    "    def available_moves(self):\n",
    "        return [k for k, v in enumerate(self.squares) if v is None]\n",
    "\n",
    "    def available_combos(self, player):\n",
    "        return self.available_moves() + self.get_squares(player)\n",
    "\n",
    "    def complete(self):\n",
    "        if None not in [v for v in self.squares]:\n",
    "            return True\n",
    "        if self.winner() != None:\n",
    "            return True\n",
    "        return False\n",
    "\n",
    "    def X_won(self):\n",
    "        return self.winner() == 'X'\n",
    "\n",
    "    def O_won(self):\n",
    "        return self.winner() == 'O'\n",
    "\n",
    "    def tied(self):\n",
    "        return self.complete() == True and self.winner() is None\n",
    "\n",
    "    def winner(self):\n",
    "        for player in ('X', 'O'):\n",
    "            positions = self.get_squares(player)\n",
    "            for combo in self.winning_combos:\n",
    "                win = True\n",
    "                for pos in combo:\n",
    "                    if pos not in positions:\n",
    "                        win = False\n",
    "                if win:\n",
    "                    return player\n",
    "        return None\n",
    "\n",
    "    def get_squares(self, player):\n",
    "        return [k for k, v in enumerate(self.squares) if v == player]\n",
    "\n",
    "    def make_move(self, position, player):\n",
    "        self.squares[position] = player\n",
    "\n",
    "def get_enemy(player):\n",
    "    if player == 'X':\n",
    "        return 'O'\n",
    "    return 'X'"
   ]
  },
  {
   "cell_type": "code",
   "execution_count": 6,
   "metadata": {},
   "outputs": [
    {
     "name": "stdout",
     "output_type": "stream",
     "text": [
      "[None, None, None]\n",
      "[None, None, None]\n",
      "[None, None, None]\n",
      "[None, 'X', None]\n",
      "[None, None, None]\n",
      "[None, None, 'Y']\n"
     ]
    }
   ],
   "source": [
    "tic = Tic()\n",
    "\n",
    "tic.show()\n",
    "\n",
    "tic.make_move(1, 'X')\n",
    "tic.make_move(8, 'Y')\n",
    "\n",
    "tic.show()"
   ]
  },
  {
   "cell_type": "markdown",
   "metadata": {},
   "source": [
    "### Game Tree for MiniMax"
   ]
  },
  {
   "cell_type": "code",
   "execution_count": 64,
   "metadata": {},
   "outputs": [],
   "source": [
    "import copy\n",
    "from pprint import pprint"
   ]
  },
  {
   "cell_type": "code",
   "execution_count": 13,
   "metadata": {},
   "outputs": [
    {
     "data": {
      "text/plain": [
       "(['K', 'L', 'M'], ['a', 'b', 'c'])"
      ]
     },
     "execution_count": 13,
     "metadata": {},
     "output_type": "execute_result"
    }
   ],
   "source": [
    "def get_successors(current_state, game_tree):\n",
    "    game_tree_copy = copy.deepcopy(game_tree)\n",
    "    current_state = game_tree_copy[current_state]\n",
    "    successor_states = []\n",
    "    actions = []\n",
    "    current_state_moves = current_state[0]\n",
    "    if current_state_moves is None:\n",
    "        print (\"Terminal node\")\n",
    "        return None\n",
    "    for move, successor in current_state_moves.items():\n",
    "        if move in possible_moves and move not in actions:\n",
    "            actions.append(move)\n",
    "            successor_states.append(successor)\n",
    "    return successor_states, actions\n",
    "\n",
    "get_successors('D', game_tree)\n",
    "            \n",
    "        "
   ]
  },
  {
   "cell_type": "code",
   "execution_count": 90,
   "metadata": {},
   "outputs": [
    {
     "data": {
      "text/plain": [
       "False"
      ]
     },
     "execution_count": 90,
     "metadata": {},
     "output_type": "execute_result"
    }
   ],
   "source": [
    "def isTerminal(state, game_tree):\n",
    "    game_tree_copy = copy.deepcopy(game_tree)\n",
    "    if game_tree_copy[state][0] is None and game_tree_copy[state][1] is None:\n",
    "        return True\n",
    "    return False\n",
    "\n",
    "isTerminal('Q', game_tree)    "
   ]
  },
  {
   "cell_type": "code",
   "execution_count": 39,
   "metadata": {},
   "outputs": [],
   "source": [
    "def get_max_value(state):\n",
    "\n",
    "    # NOTE: This function modifies the original game tree\n",
    "\n",
    "    # if terminal state, return max value of that state\n",
    "    if isTerminal(state, game_tree):\n",
    "        return game_tree[state][2]\n",
    "    # else return min value from the successors\n",
    "    succesor_states = get_successors(state, game_tree)[0]\n",
    "    moves = get_successors(state, game_tree)[1]\n",
    "    utility_values_of_successors = []\n",
    "    for successor in succesor_states:\n",
    "        utility_values_of_successors.append(get_min_value(successor))\n",
    "    # print (\"Changing utility value of state:\", state)\n",
    "    game_tree[state][2] = max(utility_values_of_successors)\n",
    "    return max(utility_values_of_successors)"
   ]
  },
  {
   "cell_type": "code",
   "execution_count": 40,
   "metadata": {},
   "outputs": [],
   "source": [
    "def get_min_value(state):\n",
    "\n",
    "    # NOTE: This function modifies the original game tree\n",
    "    \n",
    "    # if terminal state, return max value of that state\n",
    "    if isTerminal(state, game_tree):\n",
    "        return game_tree[state][2]\n",
    "    # else return min value from the successors\n",
    "    succesor_states = get_successors(state, game_tree)[0]\n",
    "    moves = get_successors(state, game_tree)[1]\n",
    "    utility_values_of_successors = []\n",
    "    for successor in succesor_states:\n",
    "        utility_values_of_successors.append(get_max_value(successor))\n",
    "    # print (\"Changing utility value of state:\", state)\n",
    "    game_tree[state][2] = min(utility_values_of_successors)\n",
    "    return min(utility_values_of_successors)\n",
    "    "
   ]
  },
  {
   "cell_type": "code",
   "execution_count": 59,
   "metadata": {
    "scrolled": false
   },
   "outputs": [
    {
     "name": "stdout",
     "output_type": "stream",
     "text": [
      "Changing utility value of state: B\n",
      "Changing utility value of state: C\n",
      "Changing utility value of state: D\n",
      "Changing utility value of state: A\n"
     ]
    },
    {
     "data": {
      "text/plain": [
       "3"
      ]
     },
     "execution_count": 59,
     "metadata": {},
     "output_type": "execute_result"
    }
   ],
   "source": [
    "get_max_value('A')"
   ]
  },
  {
   "cell_type": "code",
   "execution_count": 60,
   "metadata": {
    "scrolled": true
   },
   "outputs": [
    {
     "data": {
      "text/plain": [
       "{'A': [{'a': 'B', 'b': 'C', 'c': 'D'}, 1, 3],\n",
       " 'B': [{'a': 'E', 'b': 'F', 'c': 'G'}, -1, 3],\n",
       " 'C': [{'a': 'H', 'b': 'I', 'c': 'J'}, -1, 2],\n",
       " 'D': [{'a': 'K', 'b': 'L', 'c': 'M'}, -1, 2],\n",
       " 'E': [None, None, 3],\n",
       " 'F': [None, None, 12],\n",
       " 'G': [None, None, 8],\n",
       " 'H': [None, None, 2],\n",
       " 'I': [None, None, 4],\n",
       " 'J': [None, None, 6],\n",
       " 'K': [None, None, 14],\n",
       " 'L': [None, None, 5],\n",
       " 'M': [None, None, 2]}"
      ]
     },
     "execution_count": 60,
     "metadata": {},
     "output_type": "execute_result"
    }
   ],
   "source": [
    "game_tree"
   ]
  },
  {
   "cell_type": "code",
   "execution_count": 72,
   "metadata": {},
   "outputs": [
    {
     "name": "stdout",
     "output_type": "stream",
     "text": [
      "Changing utility value of state: B\n",
      "Changing utility value of state: C\n",
      "Changing utility value of state: D\n",
      "Changing utility value of state: A\n",
      "{'A': [{'a': 'B', 'b': 'C', 'c': 'D'}, 1, 4],\n",
      " 'B': [{'a': 'E', 'b': 'F', 'c': 'G'}, -1, 3],\n",
      " 'C': [{'a': 'H', 'b': 'I', 'c': 'J'}, -1, 4],\n",
      " 'D': [{'a': 'K', 'b': 'L', 'c': 'M'}, -1, 2],\n",
      " 'E': [None, None, 3],\n",
      " 'F': [None, None, 12],\n",
      " 'G': [None, None, 8],\n",
      " 'H': [None, None, 7],\n",
      " 'I': [None, None, 4],\n",
      " 'J': [None, None, 6],\n",
      " 'K': [None, None, 14],\n",
      " 'L': [None, None, 5],\n",
      " 'M': [None, None, 2]}\n"
     ]
    },
    {
     "data": {
      "text/plain": [
       "('b', 4)"
      ]
     },
     "execution_count": 72,
     "metadata": {},
     "output_type": "execute_result"
    }
   ],
   "source": [
    "def minimax_decision(state, game_tree):\n",
    "    game_tree_copy = copy.deepcopy(game_tree)\n",
    "    if game_tree_copy[state][1] != 1:\n",
    "        return None\n",
    "    v = get_max_value(state)\n",
    "    pprint(game_tree)\n",
    "    succesor_states = get_successors(state, game_tree)[0]\n",
    "    moves = get_successors(state, game_tree)[1]\n",
    "    utility_values_of_successors = []\n",
    "    for succesor_state in succesor_states:\n",
    "        utility_values_of_successors.append(game_tree[succesor_state][2])\n",
    "        \n",
    "    max_utility = utility_values_of_successors[0]\n",
    "    max_utility_index = 0\n",
    "    for x in range(len(succesor_states)):\n",
    "        if utility_values_of_successors[x] > max_utility:\n",
    "            max_utility = utility_values_of_successors[x]\n",
    "            max_utility_index = x\n",
    "    return moves[max_utility_index], max_utility\n",
    "    \n",
    "\n",
    "minimax_decision('A', game_tree)"
   ]
  },
  {
   "cell_type": "code",
   "execution_count": 71,
   "metadata": {},
   "outputs": [],
   "source": [
    "game_tree = {\n",
    "    'A': [{'a': 'B', 'b': 'C', 'c': 'D'}, 1, None],\n",
    "    'B': [{'a': 'E', 'b': 'F', 'c': 'G'}, -1, None],\n",
    "    'C': [{'a': 'H', 'b': 'I', 'c': 'J'}, -1, None],\n",
    "    'D': [{'a': 'K', 'b': 'L', 'c': 'M'}, -1, None],\n",
    "    'E': [None, None, 3],\n",
    "    'F': [None, None, 12],\n",
    "    'G': [None, None, 8],\n",
    "    'H': [None, None, 2],\n",
    "    'I': [None, None, 4],\n",
    "    'J': [None, None, 6],\n",
    "    'K': [None, None, 14],\n",
    "    'L': [None, None, 5],\n",
    "    'M': [None, None, 2]\n",
    "}\n",
    "\n",
    "possible_moves = ['a', 'b', 'c']"
   ]
  },
  {
   "cell_type": "code",
   "execution_count": 93,
   "metadata": {},
   "outputs": [],
   "source": [
    "extended_game_tree = {\n",
    "    'A': [{'l': 'B', 'r': 'C'}, 1, None],\n",
    "    'B': [{'l': 'D', 'r': 'E'}, -1, None],\n",
    "    'C': [{'l': 'F', 'r': 'G'}, -1, None],\n",
    "    'D': [{'l': 'I', 'r': 'J'}, 1, None],\n",
    "    'E': [{'l': 'K', 'r': 'L'}, 1, None],\n",
    "    'F': [{'l': 'M', 'r': 'N'}, 1, None],\n",
    "    'G': [{'l': 'O', 'r': 'P'}, 1, None],\n",
    "    'I': [{'l': 'Q'}, -1, None],\n",
    "    'J': [{'l': 'R', 'r': 'S'}, -1, None],\n",
    "    'K': [{'l': 'T', 'r': 'U'}, -1, None],\n",
    "    'L': [{'r': 'V'}, -1, None],\n",
    "    'M': [{'r': 'W'}, -1, None],\n",
    "    'N': [{'l': 'X', 'r': 'Y'}, -1, None],\n",
    "    'O': [{'l': 'Z', 'r': 'A1'}, -1, None],\n",
    "    'P': [{'l': 'A2'}, -1, None],\n",
    "    'Q': [None, None, 5],\n",
    "    'R': [None, None, 2],\n",
    "    'S': [None, None, 3],\n",
    "    'T': [None, None, 1],\n",
    "    'U': [None, None, 8],\n",
    "    'V': [None, None, 9],\n",
    "    'W': [None, None, 3],\n",
    "    'X': [None, None, 4],\n",
    "    'Y': [None, None, 5],\n",
    "    'Z': [None, None, 2],\n",
    "    'A1': [None, None, 3],\n",
    "    'A2': [None, None, 3]\n",
    "}\n",
    "possible_moves = ['l', 'r']"
   ]
  },
  {
   "cell_type": "code",
   "execution_count": 94,
   "metadata": {},
   "outputs": [],
   "source": [
    "game_tree = extended_game_tree"
   ]
  },
  {
   "cell_type": "code",
   "execution_count": 88,
   "metadata": {},
   "outputs": [
    {
     "data": {
      "text/plain": [
       "{'A': [{'l': 'B', 'r': 'C'}, 1, None],\n",
       " 'A1': [None, 1, 3],\n",
       " 'A2': [None, 1, 3],\n",
       " 'B': [{'l': 'D', 'r': 'E'}, -1, None],\n",
       " 'C': [{'l': 'F', 'r': 'G'}, -1, None],\n",
       " 'D': [{'l': 'I', 'r': 'J'}, 1, None],\n",
       " 'E': [{'l': 'K', 'r': 'L'}, 1, None],\n",
       " 'F': [{'l': 'M', 'r': 'N'}, 1, None],\n",
       " 'G': [{'l': 'O', 'r': 'P'}, 1, None],\n",
       " 'I': [{'l': 'Q'}, -1, None],\n",
       " 'J': [{'l': 'R', 'r': 'S'}, -1, None],\n",
       " 'K': [{'l': 'T', 'r': 'U'}, -1, None],\n",
       " 'L': [{'r': 'V'}, -1, None],\n",
       " 'M': [{'r': 'W'}, -1, None],\n",
       " 'N': [{'l': 'X', 'r': 'Y'}, -1, None],\n",
       " 'O': [{'l': 'Z', 'r': 'A1'}, -1, None],\n",
       " 'P': [{'l': 'A2'}, -1, None],\n",
       " 'Q': [None, 1, 5],\n",
       " 'R': [None, 1, 2],\n",
       " 'S': [None, 1, 3],\n",
       " 'T': [None, 1, 1],\n",
       " 'U': [None, 1, 8],\n",
       " 'V': [None, 1, 9],\n",
       " 'W': [None, 1, 3],\n",
       " 'X': [None, 1, 4],\n",
       " 'Y': [None, 1, 5],\n",
       " 'Z': [None, 1, 2]}"
      ]
     },
     "execution_count": 88,
     "metadata": {},
     "output_type": "execute_result"
    }
   ],
   "source": [
    "game_tree"
   ]
  },
  {
   "cell_type": "code",
   "execution_count": 98,
   "metadata": {},
   "outputs": [
    {
     "name": "stdout",
     "output_type": "stream",
     "text": [
      "Changing utility value of state: I\n",
      "Changing utility value of state: J\n",
      "Changing utility value of state: D\n",
      "Changing utility value of state: K\n",
      "Changing utility value of state: L\n",
      "Changing utility value of state: E\n",
      "Changing utility value of state: B\n",
      "Changing utility value of state: M\n",
      "Changing utility value of state: N\n",
      "Changing utility value of state: F\n",
      "Changing utility value of state: O\n",
      "Changing utility value of state: P\n",
      "Changing utility value of state: G\n",
      "Changing utility value of state: C\n",
      "Changing utility value of state: A\n"
     ]
    },
    {
     "data": {
      "text/plain": [
       "5"
      ]
     },
     "execution_count": 98,
     "metadata": {},
     "output_type": "execute_result"
    }
   ],
   "source": [
    "get_max_value('A')"
   ]
  },
  {
   "cell_type": "code",
   "execution_count": 99,
   "metadata": {},
   "outputs": [
    {
     "data": {
      "text/plain": [
       "{'A': [{'l': 'B', 'r': 'C'}, 1, 5],\n",
       " 'A1': [None, None, 3],\n",
       " 'A2': [None, None, 3],\n",
       " 'B': [{'l': 'D', 'r': 'E'}, -1, 5],\n",
       " 'C': [{'l': 'F', 'r': 'G'}, -1, 3],\n",
       " 'D': [{'l': 'I', 'r': 'J'}, 1, 5],\n",
       " 'E': [{'l': 'K', 'r': 'L'}, 1, 9],\n",
       " 'F': [{'l': 'M', 'r': 'N'}, 1, 4],\n",
       " 'G': [{'l': 'O', 'r': 'P'}, 1, 3],\n",
       " 'I': [{'l': 'Q'}, -1, 5],\n",
       " 'J': [{'l': 'R', 'r': 'S'}, -1, 2],\n",
       " 'K': [{'l': 'T', 'r': 'U'}, -1, 1],\n",
       " 'L': [{'r': 'V'}, -1, 9],\n",
       " 'M': [{'r': 'W'}, -1, 3],\n",
       " 'N': [{'l': 'X', 'r': 'Y'}, -1, 4],\n",
       " 'O': [{'l': 'Z', 'r': 'A1'}, -1, 2],\n",
       " 'P': [{'l': 'A2'}, -1, 3],\n",
       " 'Q': [None, None, 5],\n",
       " 'R': [None, None, 2],\n",
       " 'S': [None, None, 3],\n",
       " 'T': [None, None, 1],\n",
       " 'U': [None, None, 8],\n",
       " 'V': [None, None, 9],\n",
       " 'W': [None, None, 3],\n",
       " 'X': [None, None, 4],\n",
       " 'Y': [None, None, 5],\n",
       " 'Z': [None, None, 2]}"
      ]
     },
     "execution_count": 99,
     "metadata": {},
     "output_type": "execute_result"
    }
   ],
   "source": [
    "game_tree"
   ]
  }
 ],
 "metadata": {
  "kernelspec": {
   "display_name": "Python 3",
   "language": "python",
   "name": "python3"
  },
  "language_info": {
   "codemirror_mode": {
    "name": "ipython",
    "version": 3
   },
   "file_extension": ".py",
   "mimetype": "text/x-python",
   "name": "python",
   "nbconvert_exporter": "python",
   "pygments_lexer": "ipython3",
   "version": "3.6.3"
  }
 },
 "nbformat": 4,
 "nbformat_minor": 2
}
