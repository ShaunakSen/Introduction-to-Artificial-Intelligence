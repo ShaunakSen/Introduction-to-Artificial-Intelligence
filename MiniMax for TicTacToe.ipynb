{
 "cells": [
  {
   "cell_type": "markdown",
   "metadata": {},
   "source": [
    "## Solving TicTacToe using MiniMax algorithm\n",
    "\n",
    "[link](https://cwoebker.com/posts/tic-tac-toe)\n",
    "\n",
    "\n",
    "### Stats for the game\n",
    "\n",
    "One could assume that there are 9! different possible game states for Tic Tac Toe. After there would be a winner, players would stop playing so we have to discard those states. Instead of the full 9! = 362,880 states we therefore only have 255,168 possible game states.\n",
    "\n",
    "131,184 (1st player)\n",
    "77,904 (2nd player)\n",
    "46,080 (tie)\n",
    "This might seem like a lot but for a Computer this is a joke. If we assume symmetries (discarding states already present by rotations or reflections) this changes to just about 26,830 possibilitiess.\n",
    "\n",
    "There are 138 terminal positions after assuming symmetries.\n",
    "\n",
    "91 (player 1)\n",
    "44 (player 2)\n",
    "3 (tie)\n",
    "\n",
    "Tic Tac Toe is something called a zero-sum game. A game where the outcome always sums up to zero in the end. Furthermore this is a perfect information game where the game state is completely open to you. You know everything about it, no hidden cards or anything like that. Therefore you can play perfectly since no luck or unknown variables are involved. (Playing perfectly doesn’t mean you will win). For this purpose this means there will always be a tie.\n",
    "\n",
    "When every single one of us plays Tic Tac Toe it is easy to say what goes on in our minds:\n",
    "\n",
    "We look at the board and try to predict the future. We try to find the move that will be best for us and worst for our opponent.\n",
    "\n",
    "Essentially the computer does the exact same thing. It has one important advantage though it can see further into the future (given enough computing power). We could make the computer look far enough so it could see every possible move. This is how the computer can play perfectly and this is how many AI’s related to abstract games (chess, connect four, …) are implemented. If the games are too complex the computer might not be able to compute everything, but we don’t have to worry about that yet."
   ]
  },
  {
   "cell_type": "code",
   "execution_count": 2,
   "metadata": {},
   "outputs": [],
   "source": [
    "class Tic(object):\n",
    "    winning_combos = (\n",
    "        [0, 1, 2], [3, 4, 5], [6, 7, 8],\n",
    "        [0, 3, 6], [1, 4, 7], [2, 5, 8],\n",
    "        [0, 4, 8], [2, 4, 6])\n",
    "\n",
    "    winners = ('X-win', 'Draw', 'O-win')\n",
    "\n",
    "    def __init__(self, squares=[]):\n",
    "        if len(squares) == 0:\n",
    "            self.squares = [None for i in range(9)]\n",
    "        else:\n",
    "            self.squares = squares\n",
    "\n",
    "    def show(self):\n",
    "        for element in [self.squares[i:i + 3] for i in range(0, len(self.squares), 3)]:\n",
    "            print (element)\n",
    "\n",
    "    def available_moves(self):\n",
    "        return [k for k, v in enumerate(self.squares) if v is None]\n",
    "\n",
    "    def available_combos(self, player):\n",
    "        return self.available_moves() + self.get_squares(player)\n",
    "\n",
    "    def complete(self):\n",
    "        if None not in [v for v in self.squares]:\n",
    "            return True\n",
    "        if self.winner() != None:\n",
    "            return True\n",
    "        return False\n",
    "\n",
    "    def X_won(self):\n",
    "        return self.winner() == 'X'\n",
    "\n",
    "    def O_won(self):\n",
    "        return self.winner() == 'O'\n",
    "\n",
    "    def tied(self):\n",
    "        return self.complete() == True and self.winner() is None\n",
    "\n",
    "    def winner(self):\n",
    "        for player in ('X', 'O'):\n",
    "            positions = self.get_squares(player)\n",
    "            for combo in self.winning_combos:\n",
    "                win = True\n",
    "                for pos in combo:\n",
    "                    if pos not in positions:\n",
    "                        win = False\n",
    "                if win:\n",
    "                    return player\n",
    "        return None\n",
    "\n",
    "    def get_squares(self, player):\n",
    "        return [k for k, v in enumerate(self.squares) if v == player]\n",
    "\n",
    "    def make_move(self, position, player):\n",
    "        self.squares[position] = player\n",
    "\n",
    "def get_enemy(player):\n",
    "    if player == 'X':\n",
    "        return 'O'\n",
    "    return 'X'"
   ]
  },
  {
   "cell_type": "code",
   "execution_count": 6,
   "metadata": {},
   "outputs": [
    {
     "name": "stdout",
     "output_type": "stream",
     "text": [
      "[None, None, None]\n",
      "[None, None, None]\n",
      "[None, None, None]\n",
      "[None, 'X', None]\n",
      "[None, None, None]\n",
      "[None, None, 'Y']\n"
     ]
    }
   ],
   "source": [
    "tic = Tic()\n",
    "\n",
    "tic.show()\n",
    "\n",
    "tic.make_move(1, 'X')\n",
    "tic.make_move(8, 'Y')\n",
    "\n",
    "tic.show()"
   ]
  },
  {
   "cell_type": "markdown",
   "metadata": {},
   "source": [
    "### Game Tree for MiniMax"
   ]
  },
  {
   "cell_type": "code",
   "execution_count": 2,
   "metadata": {},
   "outputs": [],
   "source": [
    "import copy"
   ]
  },
  {
   "cell_type": "code",
   "execution_count": 13,
   "metadata": {},
   "outputs": [
    {
     "data": {
      "text/plain": [
       "(['K', 'L', 'M'], ['a', 'b', 'c'])"
      ]
     },
     "execution_count": 13,
     "metadata": {},
     "output_type": "execute_result"
    }
   ],
   "source": [
    "def get_successors(current_state, game_tree):\n",
    "    game_tree_copy = copy.deepcopy(game_tree)\n",
    "    current_state = game_tree_copy[current_state]\n",
    "    successor_states = []\n",
    "    actions = []\n",
    "    current_state_moves = current_state[0]\n",
    "    if current_state_moves is None:\n",
    "        print (\"Terminal node\")\n",
    "        return None\n",
    "    for move, successor in current_state_moves.items():\n",
    "        if move in possible_moves and move not in actions:\n",
    "            actions.append(move)\n",
    "            successor_states.append(successor)\n",
    "    return successor_states, actions\n",
    "\n",
    "get_successors('D', game_tree)\n",
    "            \n",
    "        "
   ]
  },
  {
   "cell_type": "code",
   "execution_count": 15,
   "metadata": {},
   "outputs": [
    {
     "data": {
      "text/plain": [
       "True"
      ]
     },
     "execution_count": 15,
     "metadata": {},
     "output_type": "execute_result"
    }
   ],
   "source": [
    "def isTerminal(state, game_tree):\n",
    "    game_tree_copy = copy.deepcopy(game_tree)\n",
    "    if game_tree_copy[state][0] is None and game_tree_copy[state][1] is None:\n",
    "        return True\n",
    "    return False\n",
    "\n",
    "isTerminal('K', game_tree)    "
   ]
  },
  {
   "cell_type": "code",
   "execution_count": 17,
   "metadata": {},
   "outputs": [],
   "source": [
    "def get_max_value(state, game_tree):\n",
    "    game_tree_copy = copy.deepcopy(game_tree)\n",
    "    # if terminal state, return max value of that state\n",
    "    if isTerminal(state, game_tree_copy):\n",
    "        return game_tree_copy[state][2]\n",
    "    # else return max value from the successors\n",
    "    succesor_states = get_successors(state, game_tree_copy)[0]\n",
    "    moves = get_successors(state, game_tree_copy)[1]\n",
    "    utility_values_of_successors = []\n",
    "    for state in succesor_states:\n",
    "        utility_values_of_successors.append(get_min_value(state, game_tree_copy))\n",
    "    return max(utility_values_of_successors)\n",
    "    "
   ]
  },
  {
   "cell_type": "code",
   "execution_count": 18,
   "metadata": {},
   "outputs": [],
   "source": [
    "def get_min_value(state, game_tree):\n",
    "    game_tree_copy = copy.deepcopy(game_tree)\n",
    "    # if terminal state, return max value of that state\n",
    "    if isTerminal(state, game_tree_copy):\n",
    "        return game_tree_copy[state][2]\n",
    "    # else return min value from the successors\n",
    "    succesor_states = get_successors(state, game_tree_copy)[0]\n",
    "    moves = get_successors(state, game_tree_copy)[1]\n",
    "    utility_values_of_successors = []\n",
    "    for state in succesor_states:\n",
    "        utility_values_of_successors.append(get_max_value(state, game_tree_copy))\n",
    "    return min(utility_values_of_successors)\n",
    "    "
   ]
  },
  {
   "cell_type": "code",
   "execution_count": 24,
   "metadata": {},
   "outputs": [
    {
     "data": {
      "text/plain": [
       "3"
      ]
     },
     "execution_count": 24,
     "metadata": {},
     "output_type": "execute_result"
    }
   ],
   "source": [
    "get_max_value('A', game_tree)"
   ]
  },
  {
   "cell_type": "code",
   "execution_count": 1,
   "metadata": {},
   "outputs": [],
   "source": [
    "game_tree = {\n",
    "    'A': [{'a': 'B', 'b': 'C', 'c': 'D'}, 1, None],\n",
    "    'B': [{'a': 'E', 'b': 'F', 'c': 'G'}, -1, None],\n",
    "    'C': [{'a': 'H', 'b': 'I', 'c': 'J'}, -1, None],\n",
    "    'D': [{'a': 'K', 'b': 'L', 'c': 'M'}, -1, None],\n",
    "    'E': [None, None, 3],\n",
    "    'F': [None, None, 12],\n",
    "    'G': [None, None, 8],\n",
    "    'H': [None, None, 2],\n",
    "    'I': [None, None, 4],\n",
    "    'J': [None, None, 6],\n",
    "    'K': [None, None, 14],\n",
    "    'L': [None, None, 5],\n",
    "    'M': [None, None, 2]\n",
    "}\n",
    "\n",
    "possible_moves = ['a', 'b', 'c']"
   ]
  }
 ],
 "metadata": {
  "kernelspec": {
   "display_name": "Python 3",
   "language": "python",
   "name": "python3"
  },
  "language_info": {
   "codemirror_mode": {
    "name": "ipython",
    "version": 3
   },
   "file_extension": ".py",
   "mimetype": "text/x-python",
   "name": "python",
   "nbconvert_exporter": "python",
   "pygments_lexer": "ipython3",
   "version": "3.6.3"
  }
 },
 "nbformat": 4,
 "nbformat_minor": 2
}
