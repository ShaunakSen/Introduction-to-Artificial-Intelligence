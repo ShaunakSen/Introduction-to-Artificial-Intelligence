{
  "nbformat": 4,
  "nbformat_minor": 0,
  "metadata": {
    "colab": {
      "name": "Basics - Genetic Algorithms.ipynb",
      "provenance": [],
      "collapsed_sections": [],
      "authorship_tag": "ABX9TyO9zy5UUzwy9RHQvt461LqR",
      "include_colab_link": true
    },
    "kernelspec": {
      "name": "python3",
      "display_name": "Python 3"
    }
  },
  "cells": [
    {
      "cell_type": "markdown",
      "metadata": {
        "id": "view-in-github",
        "colab_type": "text"
      },
      "source": [
        "<a href=\"https://colab.research.google.com/github/ShaunakSen/Introduction-to-Artificial-Intelligence/blob/master/Basics_Genetic_Algorithms.ipynb\" target=\"_parent\"><img src=\"https://colab.research.google.com/assets/colab-badge.svg\" alt=\"Open In Colab\"/></a>"
      ]
    },
    {
      "cell_type": "markdown",
      "metadata": {
        "id": "N0cLzrVAb-IX",
        "colab_type": "text"
      },
      "source": [
        "## Introductions to Genetic Algorithms\n",
        "\n",
        "This article is based on the tutorial: [tutorial link](https://www.obitko.com/tutorials/genetic-algorithms/index.php)\n",
        "\n",
        "### Introduction and Background\n",
        "\n",
        "Genetic algorithms are a part of evolutionary computing, which is a rapidly growing area of artificial intelligence.\n",
        "\n",
        "As you can guess, genetic algorithms are inspired by Darwin's theory about evolution. Simply said, solution to a problem solved by genetic algorithms is evolved.\n",
        "\n",
        "Idea of evolutionary computing was introduced in the 1960s by I. Rechenberg in his work \"Evolution strategies\" (Evolutionsstrategie in original). His idea was then developed by other researchers. Genetic Algorithms (GAs) were invented by John Holland and developed by him and his students and colleagues. This lead to Holland's book \"Adaption in Natural and Artificial Systems\" published in 1975.\n",
        "\n",
        "In 1992 John Koza has used genetic algorithm to evolve programs to perform certain tasks. He called his method \"genetic programming\" (GP). LISP programs were used, because programs in this language can expressed in the form of a \"parse tree\", which is the object the GA works on.\n",
        "\n",
        "\n",
        "All living organisms consist of cells. In each cell there is the same set of chromosomes. Chromosomes are strings of DNA and serves as a model for the whole organism. A chromosome consist of genes, blocks of DNA. Each gene encodes a particular protein. Basically can be said, that each gene encodes a trait, for example color of eyes. Possible settings for a trait (e.g. blue, brown) are called alleles. Each gene has its own position in the chromosome. This position is called locus.\n",
        "\n",
        "```\n",
        "Cells -> [chromosomes, ...] -> [gene (trait), ...] -> [dna, ...]\n",
        "```\n",
        "\n",
        "During reproduction, first occurs recombination (or crossover). Genes from parents form in some way the whole new chromosome. The new created offspring can then be mutated. Mutation means, that the elements of DNA are a bit changed. This changes are mainly caused by errors in copying genes from parents.\n",
        "\n",
        "The fitness of an organism is measured by success of the organism in its life.\n",
        "\n"
      ]
    },
    {
      "cell_type": "markdown",
      "metadata": {
        "id": "7q-QlyZZdz4b",
        "colab_type": "text"
      },
      "source": [
        "### Search Space\n",
        "\n",
        "If we are solving some problem, we are usually looking for some solution, which will be the best among others. The space of all feasible solutions (it means objects among those the desired solution is) is called search space (also state space). Each point in the search space represent one feasible solution. Each feasible solution can be \"marked\" by its value or fitness for the problem. We are looking for our solution, which is one point (or more) among feasible solutions - that is one point in the search space.\n",
        "\n",
        "The looking for a solution is then equal to a looking for some extreme (minimum or maximum) in the search space. The search space can be whole known by the time of solving a problem, but usually we know only a few points from it and we are generating other points as the process of finding solution continues.\n",
        "\n",
        "![](https://www.obitko.com/tutorials/genetic-algorithms/images/funcsp.gif)\n",
        "\n",
        "The problem is that the search can be very complicated. One does not know where to look for the solution and where to start. There are many methods, how to find some suitable solution (ie. not necessarily the best solution), for example hill climbing, tabu search, simulated annealing and genetic algorithm. The solution found by this methods is often considered as a good solution, because it is not often possible to prove what is the real optimum.\n",
        "\n",
        "### NP-hard Problems\n",
        "\n",
        "Example of difficult problems, which cannot be solved int \"traditional\" way, are NP problems.\n",
        "\n",
        "There are many tasks for which we know fast (polynomial) algorithms. There are also some problems that are not possible to be solved algorithmicaly. For some problems was proved that they are not solvable in polynomial time.\n",
        "\n",
        "But there are many important tasks, for which it is very difficult to find a solution, but once we have it, it is easy to check the solution. This fact led to NP-complete problems. NP stands for nondeterministic polynomial and it means that it is possible to \"guess\" the solution (by some nondeterministic algorithm) and then check it, both in polynomial time. If we had a machine that can guess, we would be able to find a solution in some reasonable time.\n",
        "\n",
        "Studying of NP-complete problems is for simplicity restricted to the problems, where the answer can be yes or no. Because there are tasks with complicated outputs, a class of problems called NP-hard problems has been introduced. This class is not as limited as class of NP-complete problems.\n",
        "\n",
        "For NP-problems is characteristic that some simple algorithm to find a solution is obvious at a first sight - just trying all possible solutions. But this algorithm is very slow (usually O(2^n)) and even for a bit bigger instances of the problems it is not usable at all.\n",
        "\n",
        "Today nobody knows if some faster exact algorithm exists. Proving or disproving this remains as a big task for new researchers (and maybe you! :-)). Today many people think, that such an algorithm does not exist and so they are looking for some alternative methods - example of these methods are genetic algorithms.\n",
        "\n"
      ]
    },
    {
      "cell_type": "code",
      "metadata": {
        "id": "aMOIWM__b6gD",
        "colab_type": "code",
        "colab": {}
      },
      "source": [
        ""
      ],
      "execution_count": 0,
      "outputs": []
    }
  ]
}